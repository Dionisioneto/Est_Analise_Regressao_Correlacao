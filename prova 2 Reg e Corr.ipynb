{
 "cells": [
  {
   "cell_type": "markdown",
   "metadata": {},
   "source": [
    "# Lista de Análise de regressão e Correlação\n",
    "\n",
    "### Aluno: Dionisio Alves da Silva Neto\n",
    "### Matrícula: 202007840008\n",
    "### Data: 07/02/2022 "
   ]
  },
  {
   "cell_type": "markdown",
   "metadata": {},
   "source": [
    "### Bibliotecas Utilizadas"
   ]
  },
  {
   "cell_type": "code",
   "execution_count": 1,
   "metadata": {},
   "outputs": [],
   "source": [
    "import pandas as pd                               ## Manipulação de dados\n",
    "import matplotlib.pyplot as plt                   ## Gráficos\n",
    "import seaborn as sns                             ## Gráficos\n",
    "import numpy as np                                ## Álgebra Linear\n",
    "from math import pi                               ## Número pi\n",
    "\n",
    "from sklearn.linear_model import LinearRegression ## Modelo de Regressão Linear\n",
    "from sklearn.metrics import r2_score              ## Métrica do R quadrado\n",
    "from sklearn.metrics import mean_absolute_error   ## Métrica do EAM\n",
    "from sklearn.metrics import mean_squared_error    ## Métrica do EQM"
   ]
  },
  {
   "cell_type": "code",
   "execution_count": 2,
   "metadata": {},
   "outputs": [],
   "source": [
    "import warnings ## Excluir alguns avisos para armonizar o projeto\n",
    "warnings.filterwarnings('ignore')"
   ]
  },
  {
   "cell_type": "markdown",
   "metadata": {},
   "source": [
    "### Importação e tratamento do banco de dados"
   ]
  },
  {
   "cell_type": "code",
   "execution_count": 3,
   "metadata": {},
   "outputs": [],
   "source": [
    "df = pd.read_csv('C:/Users/Dionisio/Desktop/Dionisio_Neto/faculdade/regressao_correlacao/Material_UFPR/codigosR/regressao_multipla\\Atletas.csv',\n",
    "                sep = ';', index_col = 0)"
   ]
  },
  {
   "cell_type": "markdown",
   "metadata": {},
   "source": [
    "Observando o cabeçalho da tabela atletas"
   ]
  },
  {
   "cell_type": "code",
   "execution_count": 4,
   "metadata": {},
   "outputs": [
    {
     "data": {
      "text/html": [
       "<div>\n",
       "<style scoped>\n",
       "    .dataframe tbody tr th:only-of-type {\n",
       "        vertical-align: middle;\n",
       "    }\n",
       "\n",
       "    .dataframe tbody tr th {\n",
       "        vertical-align: top;\n",
       "    }\n",
       "\n",
       "    .dataframe thead th {\n",
       "        text-align: right;\n",
       "    }\n",
       "</style>\n",
       "<table border=\"1\" class=\"dataframe\">\n",
       "  <thead>\n",
       "    <tr style=\"text-align: right;\">\n",
       "      <th></th>\n",
       "      <th>escore</th>\n",
       "      <th>idade</th>\n",
       "      <th>imc</th>\n",
       "      <th>horas</th>\n",
       "      <th>massa</th>\n",
       "      <th>gasto</th>\n",
       "      <th>estudo</th>\n",
       "    </tr>\n",
       "  </thead>\n",
       "  <tbody>\n",
       "    <tr>\n",
       "      <th>1</th>\n",
       "      <td>79,6</td>\n",
       "      <td>30</td>\n",
       "      <td>20,5</td>\n",
       "      <td>19</td>\n",
       "      <td>21,66</td>\n",
       "      <td>72</td>\n",
       "      <td>15</td>\n",
       "    </tr>\n",
       "    <tr>\n",
       "      <th>2</th>\n",
       "      <td>80,7</td>\n",
       "      <td>30</td>\n",
       "      <td>21</td>\n",
       "      <td>23</td>\n",
       "      <td>20,5</td>\n",
       "      <td>130</td>\n",
       "      <td>15</td>\n",
       "    </tr>\n",
       "    <tr>\n",
       "      <th>3</th>\n",
       "      <td>65,6</td>\n",
       "      <td>23</td>\n",
       "      <td>21,3</td>\n",
       "      <td>13</td>\n",
       "      <td>19,39</td>\n",
       "      <td>68</td>\n",
       "      <td>10</td>\n",
       "    </tr>\n",
       "    <tr>\n",
       "      <th>4</th>\n",
       "      <td>75</td>\n",
       "      <td>23</td>\n",
       "      <td>22,7</td>\n",
       "      <td>16</td>\n",
       "      <td>23,41</td>\n",
       "      <td>64</td>\n",
       "      <td>11</td>\n",
       "    </tr>\n",
       "    <tr>\n",
       "      <th>5</th>\n",
       "      <td>84,6</td>\n",
       "      <td>27</td>\n",
       "      <td>22,6</td>\n",
       "      <td>20</td>\n",
       "      <td>20,72</td>\n",
       "      <td>101</td>\n",
       "      <td>12</td>\n",
       "    </tr>\n",
       "  </tbody>\n",
       "</table>\n",
       "</div>"
      ],
      "text/plain": [
       "  escore  idade   imc  horas  massa  gasto  estudo\n",
       "1   79,6     30  20,5     19  21,66     72      15\n",
       "2   80,7     30    21     23   20,5    130      15\n",
       "3   65,6     23  21,3     13  19,39     68      10\n",
       "4     75     23  22,7     16  23,41     64      11\n",
       "5   84,6     27  22,6     20  20,72    101      12"
      ]
     },
     "execution_count": 4,
     "metadata": {},
     "output_type": "execute_result"
    }
   ],
   "source": [
    "df.head() ## 5 primeiras linhas"
   ]
  },
  {
   "cell_type": "code",
   "execution_count": 5,
   "metadata": {},
   "outputs": [
    {
     "data": {
      "text/plain": [
       "(200, 7)"
      ]
     },
     "execution_count": 5,
     "metadata": {},
     "output_type": "execute_result"
    }
   ],
   "source": [
    "df.shape ## Dimensão da tabela"
   ]
  },
  {
   "cell_type": "markdown",
   "metadata": {},
   "source": [
    "Variáveis dentro do banco de dados:"
   ]
  },
  {
   "cell_type": "code",
   "execution_count": 6,
   "metadata": {},
   "outputs": [
    {
     "data": {
      "text/plain": [
       "Index(['escore', 'idade', 'imc', 'horas', 'massa', 'gasto', 'estudo'], dtype='object')"
      ]
     },
     "execution_count": 6,
     "metadata": {},
     "output_type": "execute_result"
    }
   ],
   "source": [
    "df.columns "
   ]
  },
  {
   "cell_type": "markdown",
   "metadata": {},
   "source": [
    "- idade: Idade da atleta (em anos);\n",
    "- imc: Índice de massa corporal (kg/cm^2);\n",
    "- horas: Horas de treino semanal;\n",
    "- massa: Percentual de massa gorda;\n",
    "- gasto: Gasto semanal com suplementos alimentares (reais);\n",
    "- estudo: Anos de estudo;\n",
    "- escore: Escore de desempenho nas últimas provas (numa escala de 0 a 100)."
   ]
  },
  {
   "cell_type": "code",
   "execution_count": 7,
   "metadata": {},
   "outputs": [
    {
     "name": "stdout",
     "output_type": "stream",
     "text": [
      "<class 'pandas.core.frame.DataFrame'>\n",
      "Int64Index: 200 entries, 1 to 200\n",
      "Data columns (total 7 columns):\n",
      " #   Column  Non-Null Count  Dtype \n",
      "---  ------  --------------  ----- \n",
      " 0   escore  200 non-null    object\n",
      " 1   idade   200 non-null    int64 \n",
      " 2   imc     200 non-null    object\n",
      " 3   horas   200 non-null    int64 \n",
      " 4   massa   200 non-null    object\n",
      " 5   gasto   200 non-null    int64 \n",
      " 6   estudo  200 non-null    int64 \n",
      "dtypes: int64(4), object(3)\n",
      "memory usage: 12.5+ KB\n"
     ]
    }
   ],
   "source": [
    "df.info() ## Informações mais detalhadas do banco de dados"
   ]
  },
  {
   "cell_type": "markdown",
   "metadata": {},
   "source": [
    "Verificando se há valores ausentes:"
   ]
  },
  {
   "cell_type": "code",
   "execution_count": 8,
   "metadata": {},
   "outputs": [
    {
     "data": {
      "text/plain": [
       "escore    0\n",
       "idade     0\n",
       "imc       0\n",
       "horas     0\n",
       "massa     0\n",
       "gasto     0\n",
       "estudo    0\n",
       "dtype: int64"
      ]
     },
     "execution_count": 8,
     "metadata": {},
     "output_type": "execute_result"
    }
   ],
   "source": [
    "df.isna().sum()"
   ]
  },
  {
   "cell_type": "markdown",
   "metadata": {},
   "source": [
    "Se analizamos atentamente o banco de dados, percebe-se que os valores do escore, imc e massa foram digitalizados utilizando a vírgula como o separador de decimais:"
   ]
  },
  {
   "cell_type": "code",
   "execution_count": 9,
   "metadata": {},
   "outputs": [
    {
     "data": {
      "text/html": [
       "<div>\n",
       "<style scoped>\n",
       "    .dataframe tbody tr th:only-of-type {\n",
       "        vertical-align: middle;\n",
       "    }\n",
       "\n",
       "    .dataframe tbody tr th {\n",
       "        vertical-align: top;\n",
       "    }\n",
       "\n",
       "    .dataframe thead th {\n",
       "        text-align: right;\n",
       "    }\n",
       "</style>\n",
       "<table border=\"1\" class=\"dataframe\">\n",
       "  <thead>\n",
       "    <tr style=\"text-align: right;\">\n",
       "      <th></th>\n",
       "      <th>escore</th>\n",
       "      <th>idade</th>\n",
       "      <th>imc</th>\n",
       "      <th>horas</th>\n",
       "      <th>massa</th>\n",
       "      <th>gasto</th>\n",
       "      <th>estudo</th>\n",
       "    </tr>\n",
       "  </thead>\n",
       "  <tbody>\n",
       "    <tr>\n",
       "      <th>1</th>\n",
       "      <td>79,6</td>\n",
       "      <td>30</td>\n",
       "      <td>20,5</td>\n",
       "      <td>19</td>\n",
       "      <td>21,66</td>\n",
       "      <td>72</td>\n",
       "      <td>15</td>\n",
       "    </tr>\n",
       "    <tr>\n",
       "      <th>2</th>\n",
       "      <td>80,7</td>\n",
       "      <td>30</td>\n",
       "      <td>21</td>\n",
       "      <td>23</td>\n",
       "      <td>20,5</td>\n",
       "      <td>130</td>\n",
       "      <td>15</td>\n",
       "    </tr>\n",
       "    <tr>\n",
       "      <th>3</th>\n",
       "      <td>65,6</td>\n",
       "      <td>23</td>\n",
       "      <td>21,3</td>\n",
       "      <td>13</td>\n",
       "      <td>19,39</td>\n",
       "      <td>68</td>\n",
       "      <td>10</td>\n",
       "    </tr>\n",
       "    <tr>\n",
       "      <th>4</th>\n",
       "      <td>75</td>\n",
       "      <td>23</td>\n",
       "      <td>22,7</td>\n",
       "      <td>16</td>\n",
       "      <td>23,41</td>\n",
       "      <td>64</td>\n",
       "      <td>11</td>\n",
       "    </tr>\n",
       "    <tr>\n",
       "      <th>5</th>\n",
       "      <td>84,6</td>\n",
       "      <td>27</td>\n",
       "      <td>22,6</td>\n",
       "      <td>20</td>\n",
       "      <td>20,72</td>\n",
       "      <td>101</td>\n",
       "      <td>12</td>\n",
       "    </tr>\n",
       "  </tbody>\n",
       "</table>\n",
       "</div>"
      ],
      "text/plain": [
       "  escore  idade   imc  horas  massa  gasto  estudo\n",
       "1   79,6     30  20,5     19  21,66     72      15\n",
       "2   80,7     30    21     23   20,5    130      15\n",
       "3   65,6     23  21,3     13  19,39     68      10\n",
       "4     75     23  22,7     16  23,41     64      11\n",
       "5   84,6     27  22,6     20  20,72    101      12"
      ]
     },
     "execution_count": 9,
     "metadata": {},
     "output_type": "execute_result"
    }
   ],
   "source": [
    "df.head()"
   ]
  },
  {
   "cell_type": "markdown",
   "metadata": {},
   "source": [
    "Dessa maneira, deve-se mudar de vírgula para ponto, devido ao fato do Python 3 codificar apenas pontos como separador de decimais."
   ]
  },
  {
   "cell_type": "code",
   "execution_count": 10,
   "metadata": {},
   "outputs": [],
   "source": [
    "## escore, imc e massa vieram com vírgula\n",
    "## devemos trocar a vírgula por pontos para poder calcular\n",
    "df['escore'] = df['escore'].str.replace(\",\",\".\").astype('float64')\n",
    "df['massa'] = df['massa'].str.replace(',', '.').astype(\"float64\")\n",
    "df['imc'] = df['imc'].str.replace(\",\", \".\").astype(\"float64\")"
   ]
  },
  {
   "cell_type": "markdown",
   "metadata": {},
   "source": [
    "Agora, percebe-se que tudo está como numérico:"
   ]
  },
  {
   "cell_type": "code",
   "execution_count": 11,
   "metadata": {},
   "outputs": [
    {
     "data": {
      "text/plain": [
       "escore    float64\n",
       "idade       int64\n",
       "imc       float64\n",
       "horas       int64\n",
       "massa     float64\n",
       "gasto       int64\n",
       "estudo      int64\n",
       "dtype: object"
      ]
     },
     "execution_count": 11,
     "metadata": {},
     "output_type": "execute_result"
    }
   ],
   "source": [
    "df.dtypes "
   ]
  },
  {
   "cell_type": "markdown",
   "metadata": {},
   "source": [
    "## a)\n",
    "Faça uma análise exploratória dos dados. Construa gráficos uni e bivariados, \n",
    "calcule medidas de locação e dispersão para cada variável, \n",
    "obtenha as correlações;"
   ]
  },
  {
   "cell_type": "markdown",
   "metadata": {},
   "source": [
    "### Tabela de estatísticas"
   ]
  },
  {
   "cell_type": "code",
   "execution_count": 12,
   "metadata": {},
   "outputs": [
    {
     "data": {
      "text/plain": [
       "Index(['escore', 'idade', 'imc', 'horas', 'massa', 'gasto', 'estudo'], dtype='object')"
      ]
     },
     "execution_count": 12,
     "metadata": {},
     "output_type": "execute_result"
    }
   ],
   "source": [
    "df.columns"
   ]
  },
  {
   "cell_type": "code",
   "execution_count": 13,
   "metadata": {},
   "outputs": [
    {
     "data": {
      "text/html": [
       "<div>\n",
       "<style scoped>\n",
       "    .dataframe tbody tr th:only-of-type {\n",
       "        vertical-align: middle;\n",
       "    }\n",
       "\n",
       "    .dataframe tbody tr th {\n",
       "        vertical-align: top;\n",
       "    }\n",
       "\n",
       "    .dataframe thead th {\n",
       "        text-align: right;\n",
       "    }\n",
       "</style>\n",
       "<table border=\"1\" class=\"dataframe\">\n",
       "  <thead>\n",
       "    <tr style=\"text-align: right;\">\n",
       "      <th></th>\n",
       "      <th>escore</th>\n",
       "      <th>idade</th>\n",
       "      <th>imc</th>\n",
       "      <th>horas</th>\n",
       "      <th>massa</th>\n",
       "      <th>gasto</th>\n",
       "      <th>estudo</th>\n",
       "    </tr>\n",
       "  </thead>\n",
       "  <tbody>\n",
       "    <tr>\n",
       "      <th>count</th>\n",
       "      <td>200.0000</td>\n",
       "      <td>200.0000</td>\n",
       "      <td>200.0000</td>\n",
       "      <td>200.0000</td>\n",
       "      <td>200.0000</td>\n",
       "      <td>200.0000</td>\n",
       "      <td>200.0000</td>\n",
       "    </tr>\n",
       "    <tr>\n",
       "      <th>mean</th>\n",
       "      <td>75.0000</td>\n",
       "      <td>24.4200</td>\n",
       "      <td>21.6895</td>\n",
       "      <td>17.7700</td>\n",
       "      <td>20.8376</td>\n",
       "      <td>84.0000</td>\n",
       "      <td>11.1550</td>\n",
       "    </tr>\n",
       "    <tr>\n",
       "      <th>std</th>\n",
       "      <td>11.2392</td>\n",
       "      <td>2.8819</td>\n",
       "      <td>1.2326</td>\n",
       "      <td>4.3936</td>\n",
       "      <td>1.5014</td>\n",
       "      <td>25.5461</td>\n",
       "      <td>2.1292</td>\n",
       "    </tr>\n",
       "    <tr>\n",
       "      <th>min</th>\n",
       "      <td>48.3000</td>\n",
       "      <td>18.0000</td>\n",
       "      <td>17.4000</td>\n",
       "      <td>10.0000</td>\n",
       "      <td>15.5600</td>\n",
       "      <td>29.0000</td>\n",
       "      <td>6.0000</td>\n",
       "    </tr>\n",
       "    <tr>\n",
       "      <th>25%</th>\n",
       "      <td>66.8000</td>\n",
       "      <td>23.0000</td>\n",
       "      <td>20.9000</td>\n",
       "      <td>14.0000</td>\n",
       "      <td>19.9450</td>\n",
       "      <td>64.0000</td>\n",
       "      <td>10.0000</td>\n",
       "    </tr>\n",
       "    <tr>\n",
       "      <th>50%</th>\n",
       "      <td>75.8500</td>\n",
       "      <td>24.0000</td>\n",
       "      <td>21.7000</td>\n",
       "      <td>18.0000</td>\n",
       "      <td>20.7050</td>\n",
       "      <td>83.5000</td>\n",
       "      <td>11.0000</td>\n",
       "    </tr>\n",
       "    <tr>\n",
       "      <th>75%</th>\n",
       "      <td>82.0250</td>\n",
       "      <td>27.0000</td>\n",
       "      <td>22.6000</td>\n",
       "      <td>21.0000</td>\n",
       "      <td>21.7300</td>\n",
       "      <td>103.0000</td>\n",
       "      <td>12.2500</td>\n",
       "    </tr>\n",
       "    <tr>\n",
       "      <th>max</th>\n",
       "      <td>98.1000</td>\n",
       "      <td>30.0000</td>\n",
       "      <td>24.3000</td>\n",
       "      <td>25.0000</td>\n",
       "      <td>24.5500</td>\n",
       "      <td>142.0000</td>\n",
       "      <td>17.0000</td>\n",
       "    </tr>\n",
       "  </tbody>\n",
       "</table>\n",
       "</div>"
      ],
      "text/plain": [
       "         escore     idade       imc     horas     massa     gasto    estudo\n",
       "count  200.0000  200.0000  200.0000  200.0000  200.0000  200.0000  200.0000\n",
       "mean    75.0000   24.4200   21.6895   17.7700   20.8376   84.0000   11.1550\n",
       "std     11.2392    2.8819    1.2326    4.3936    1.5014   25.5461    2.1292\n",
       "min     48.3000   18.0000   17.4000   10.0000   15.5600   29.0000    6.0000\n",
       "25%     66.8000   23.0000   20.9000   14.0000   19.9450   64.0000   10.0000\n",
       "50%     75.8500   24.0000   21.7000   18.0000   20.7050   83.5000   11.0000\n",
       "75%     82.0250   27.0000   22.6000   21.0000   21.7300  103.0000   12.2500\n",
       "max     98.1000   30.0000   24.3000   25.0000   24.5500  142.0000   17.0000"
      ]
     },
     "execution_count": 13,
     "metadata": {},
     "output_type": "execute_result"
    }
   ],
   "source": [
    "df.describe().round(4)\n",
    "## Aqui temos a quantidade, a média, o desvio padrão, o mínimo, o máximo, a mediana e os quantis"
   ]
  },
  {
   "cell_type": "markdown",
   "metadata": {},
   "source": [
    "### Gráficos univariados"
   ]
  },
  {
   "cell_type": "code",
   "execution_count": 14,
   "metadata": {},
   "outputs": [],
   "source": [
    "plt.style.use('seaborn-pastel') ## Ajustando um estilo para os gráficos "
   ]
  },
  {
   "cell_type": "markdown",
   "metadata": {},
   "source": [
    "#### Histogramas"
   ]
  },
  {
   "cell_type": "markdown",
   "metadata": {},
   "source": [
    "Histograma da variável dependente (escore):"
   ]
  },
  {
   "cell_type": "code",
   "execution_count": 15,
   "metadata": {},
   "outputs": [
    {
     "data": {
      "image/png": "[encoded data removed]",
      "text/plain": [
       "<Figure size 720x432 with 1 Axes>"
      ]
     },
     "metadata": {
      "needs_background": "light"
     },
     "output_type": "display_data"
    }
   ],
   "source": [
    "plt.figure(figsize = (10,6))\n",
    "plt.hist(df['escore'],alpha = 0.6, facecolor = '#2ab0ff', edgecolor='#169acf', linewidth=0.5)\n",
    "plt.title(\"Histograma do escore\", fontsize = 14)\n",
    "plt.show()"
   ]
  },
  {
   "cell_type": "markdown",
   "metadata": {},
   "source": [
    "Histogramas para cada uma das variáveis explicativas:"
   ]
  },
  {
   "cell_type": "code",
   "execution_count": 16,
   "metadata": {},
   "outputs": [
    {
     "data": {
      "image/png": "[encoded data removed]",
      "text/plain": [
       "<Figure size 1440x720 with 6 Axes>"
      ]
     },
     "metadata": {
      "needs_background": "light"
     },
     "output_type": "display_data"
    }
   ],
   "source": [
    "## variaveis explicativas\n",
    "fig, axes = plt.subplots(2,3 , figsize = (20,10))\n",
    "\n",
    "ax = axes.ravel()\n",
    "for i, coluna in zip(range(6), df.iloc[:,1:].columns):## Excluindo a primeira coluna que é a variavel resposta\n",
    "    ax[i].hist(df[coluna],alpha = 0.6, facecolor = 'tab:green', edgecolor='#169acf', linewidth=0.5)\n",
    "    ax[i].set_title('hist de {}'.format(coluna),  fontsize = 14)"
   ]
  },
  {
   "cell_type": "markdown",
   "metadata": {},
   "source": [
    "#### Boxplot"
   ]
  },
  {
   "cell_type": "markdown",
   "metadata": {},
   "source": [
    "Boxplot para a variável dependente (escore):"
   ]
  },
  {
   "cell_type": "code",
   "execution_count": 17,
   "metadata": {},
   "outputs": [
    {
     "data": {
      "image/png": "[encoded data removed]",
      "text/plain": [
       "<Figure size 432x432 with 1 Axes>"
      ]
     },
     "metadata": {
      "needs_background": "light"
     },
     "output_type": "display_data"
    }
   ],
   "source": [
    "plt.figure(figsize = (6,6))\n",
    "sns.boxplot(y = 'escore', data = df, orient = 'v')\n",
    "\n",
    "plt.title(\"Boxplot do escore\", fontsize = 12)\n",
    "plt.show()"
   ]
  },
  {
   "cell_type": "markdown",
   "metadata": {},
   "source": [
    "Boxplot para cada uma das variáveis explicativas:"
   ]
  },
  {
   "cell_type": "code",
   "execution_count": 18,
   "metadata": {},
   "outputs": [
    {
     "data": {
      "image/png": "[encoded data removed]",
      "text/plain": [
       "<Figure size 1440x1080 with 6 Axes>"
      ]
     },
     "metadata": {
      "needs_background": "light"
     },
     "output_type": "display_data"
    }
   ],
   "source": [
    "fig, axes = plt.subplots(2,3 , figsize = (20,15))\n",
    "\n",
    "ax = axes.ravel()\n",
    "\n",
    "for i, column in zip(range(6), df.iloc[:,1:]):\n",
    "    sns.boxplot(y = column, data = df, color = 'tab:green', ax = ax[i])\n",
    "    ax[i].set_title('hist de {}'.format(column), fontsize = 14)"
   ]
  },
  {
   "cell_type": "markdown",
   "metadata": {},
   "source": [
    "Percebe-se que as variáveis **massa**, **gasto** e **estudo** apresentam outliers em suas colunas."
   ]
  },
  {
   "cell_type": "markdown",
   "metadata": {},
   "source": [
    "#### Gráfico de barras para a variável idade"
   ]
  },
  {
   "cell_type": "markdown",
   "metadata": {},
   "source": [
    "Quantas pessoas tem por idade no banco de dados:"
   ]
  },
  {
   "cell_type": "code",
   "execution_count": 19,
   "metadata": {},
   "outputs": [
    {
     "data": {
      "text/plain": [
       "23    40\n",
       "24    30\n",
       "27    26\n",
       "26    19\n",
       "28    18\n",
       "22    14\n",
       "25    11\n",
       "30    10\n",
       "21    10\n",
       "20     8\n",
       "19     6\n",
       "18     5\n",
       "29     3\n",
       "Name: idade, dtype: int64"
      ]
     },
     "execution_count": 19,
     "metadata": {},
     "output_type": "execute_result"
    }
   ],
   "source": [
    "df['idade'].value_counts()"
   ]
  },
  {
   "cell_type": "markdown",
   "metadata": {},
   "source": [
    "Analizando a quantidade de elementos por porcentagem:"
   ]
  },
  {
   "cell_type": "code",
   "execution_count": 20,
   "metadata": {},
   "outputs": [
    {
     "data": {
      "text/plain": [
       "23    0.200\n",
       "24    0.150\n",
       "27    0.130\n",
       "26    0.095\n",
       "28    0.090\n",
       "22    0.070\n",
       "25    0.055\n",
       "30    0.050\n",
       "21    0.050\n",
       "20    0.040\n",
       "19    0.030\n",
       "18    0.025\n",
       "29    0.015\n",
       "Name: idade, dtype: float64"
      ]
     },
     "execution_count": 20,
     "metadata": {},
     "output_type": "execute_result"
    }
   ],
   "source": [
    "df['idade'].value_counts(normalize = True)"
   ]
  },
  {
   "cell_type": "code",
   "execution_count": 21,
   "metadata": {},
   "outputs": [
    {
     "data": {
      "text/plain": [
       "23    0.200\n",
       "24    0.150\n",
       "27    0.130\n",
       "26    0.095\n",
       "28    0.090\n",
       "22    0.070\n",
       "25    0.055\n",
       "21    0.050\n",
       "30    0.050\n",
       "20    0.040\n",
       "19    0.030\n",
       "18    0.025\n",
       "29    0.015\n",
       "Name: idade, dtype: float64"
      ]
     },
     "execution_count": 21,
     "metadata": {},
     "output_type": "execute_result"
    }
   ],
   "source": [
    "df['idade'].value_counts(normalize = True).sort_values(ascending = False) ## ordenando"
   ]
  },
  {
   "cell_type": "code",
   "execution_count": 22,
   "metadata": {},
   "outputs": [
    {
     "data": {
      "image/png": "[encoded data removed]",
      "text/plain": [
       "<Figure size 720x432 with 1 Axes>"
      ]
     },
     "metadata": {
      "needs_background": "light"
     },
     "output_type": "display_data"
    }
   ],
   "source": [
    "## gráfico de barras da variável idade\n",
    "\n",
    "plt.figure(figsize = (10,6))\n",
    "plt.bar(df['idade'].value_counts().index, df['idade'].value_counts().values)\n",
    "\n",
    "plt.xticks(df['idade'].value_counts().index)\n",
    "plt.xlabel(\"Idade\", fontsize = 12)\n",
    "plt.ylabel(\"Quantidade de pessoas\", fontsize = 12)\n",
    "plt.show()"
   ]
  },
  {
   "cell_type": "markdown",
   "metadata": {},
   "source": [
    "Desse modo, nota-se que grande parte dos indivíduos estão concentrados entre 22 e 27 anos."
   ]
  },
  {
   "cell_type": "markdown",
   "metadata": {},
   "source": [
    "### Gráficos bivariados"
   ]
  },
  {
   "cell_type": "code",
   "execution_count": 23,
   "metadata": {},
   "outputs": [],
   "source": [
    "## Ajustando a paleta de cores\n",
    "\n",
    "colors = ['#9658BF','#7FEB8B', '#F5C941', '#7073E0', '#F57CC2', '#D26133'] \n",
    "# roxo, verde, amarelo, azul, rosa, vermelho queimado, "
   ]
  },
  {
   "cell_type": "markdown",
   "metadata": {},
   "source": [
    "Criando um gráfico de dispersão para cada uma das variáveis independentes com o escore:"
   ]
  },
  {
   "cell_type": "code",
   "execution_count": 24,
   "metadata": {},
   "outputs": [
    {
     "data": {
      "image/png": "[encoded data removed]",
      "text/plain": [
       "<Figure size 1080x1080 with 6 Axes>"
      ]
     },
     "metadata": {
      "needs_background": "light"
     },
     "output_type": "display_data"
    }
   ],
   "source": [
    "## scatter plot com a variável escore\n",
    "\n",
    "fig, axes = plt.subplots(3,2, figsize = (15,15))\n",
    "fig.subplots_adjust(hspace = 0.3)\n",
    "\n",
    "ax = axes.ravel()\n",
    "\n",
    "for i, coluna, color in zip(range(6), df.iloc[:,1:].columns, colors):\n",
    "    ax[i].scatter(df[coluna], df['escore'], color = color)\n",
    "    ax[i].set_title(f'Escore x {coluna}', fontsize = 16)\n",
    "    ax[i].set_xlabel(coluna, fontsize = 12)\n",
    "    ax[i].set_ylabel(\"Escore\", fontsize = 12)"
   ]
  },
  {
   "cell_type": "markdown",
   "metadata": {},
   "source": [
    "Observções:\n",
    "- Linearidade com gasto e hora;\n",
    "- Parece que há multicolinearidade em massa e imc, pelo fato dessas variáveis se comportarem de forma parecida com o escore."
   ]
  },
  {
   "cell_type": "markdown",
   "metadata": {},
   "source": [
    "#### Correlações"
   ]
  },
  {
   "cell_type": "markdown",
   "metadata": {},
   "source": [
    "Calculando as correlações entre todas as variáveis do banco de dados:"
   ]
  },
  {
   "cell_type": "code",
   "execution_count": 25,
   "metadata": {},
   "outputs": [
    {
     "data": {
      "text/html": [
       "<div>\n",
       "<style scoped>\n",
       "    .dataframe tbody tr th:only-of-type {\n",
       "        vertical-align: middle;\n",
       "    }\n",
       "\n",
       "    .dataframe tbody tr th {\n",
       "        vertical-align: top;\n",
       "    }\n",
       "\n",
       "    .dataframe thead th {\n",
       "        text-align: right;\n",
       "    }\n",
       "</style>\n",
       "<table border=\"1\" class=\"dataframe\">\n",
       "  <thead>\n",
       "    <tr style=\"text-align: right;\">\n",
       "      <th></th>\n",
       "      <th>escore</th>\n",
       "      <th>idade</th>\n",
       "      <th>imc</th>\n",
       "      <th>horas</th>\n",
       "      <th>massa</th>\n",
       "      <th>gasto</th>\n",
       "      <th>estudo</th>\n",
       "    </tr>\n",
       "  </thead>\n",
       "  <tbody>\n",
       "    <tr>\n",
       "      <th>escore</th>\n",
       "      <td>1.0000</td>\n",
       "      <td>-0.1501</td>\n",
       "      <td>-0.1168</td>\n",
       "      <td>0.8317</td>\n",
       "      <td>-0.2799</td>\n",
       "      <td>0.8335</td>\n",
       "      <td>-0.0544</td>\n",
       "    </tr>\n",
       "    <tr>\n",
       "      <th>idade</th>\n",
       "      <td>-0.1501</td>\n",
       "      <td>1.0000</td>\n",
       "      <td>0.0021</td>\n",
       "      <td>-0.0495</td>\n",
       "      <td>-0.0675</td>\n",
       "      <td>-0.0371</td>\n",
       "      <td>0.6756</td>\n",
       "    </tr>\n",
       "    <tr>\n",
       "      <th>imc</th>\n",
       "      <td>-0.1168</td>\n",
       "      <td>0.0021</td>\n",
       "      <td>1.0000</td>\n",
       "      <td>0.0030</td>\n",
       "      <td>0.3908</td>\n",
       "      <td>-0.1175</td>\n",
       "      <td>0.0887</td>\n",
       "    </tr>\n",
       "    <tr>\n",
       "      <th>horas</th>\n",
       "      <td>0.8317</td>\n",
       "      <td>-0.0495</td>\n",
       "      <td>0.0030</td>\n",
       "      <td>1.0000</td>\n",
       "      <td>-0.0403</td>\n",
       "      <td>0.8727</td>\n",
       "      <td>0.0054</td>\n",
       "    </tr>\n",
       "    <tr>\n",
       "      <th>massa</th>\n",
       "      <td>-0.2799</td>\n",
       "      <td>-0.0675</td>\n",
       "      <td>0.3908</td>\n",
       "      <td>-0.0403</td>\n",
       "      <td>1.0000</td>\n",
       "      <td>-0.3337</td>\n",
       "      <td>-0.0596</td>\n",
       "    </tr>\n",
       "    <tr>\n",
       "      <th>gasto</th>\n",
       "      <td>0.8335</td>\n",
       "      <td>-0.0371</td>\n",
       "      <td>-0.1175</td>\n",
       "      <td>0.8727</td>\n",
       "      <td>-0.3337</td>\n",
       "      <td>1.0000</td>\n",
       "      <td>0.0020</td>\n",
       "    </tr>\n",
       "    <tr>\n",
       "      <th>estudo</th>\n",
       "      <td>-0.0544</td>\n",
       "      <td>0.6756</td>\n",
       "      <td>0.0887</td>\n",
       "      <td>0.0054</td>\n",
       "      <td>-0.0596</td>\n",
       "      <td>0.0020</td>\n",
       "      <td>1.0000</td>\n",
       "    </tr>\n",
       "  </tbody>\n",
       "</table>\n",
       "</div>"
      ],
      "text/plain": [
       "        escore   idade     imc   horas   massa   gasto  estudo\n",
       "escore  1.0000 -0.1501 -0.1168  0.8317 -0.2799  0.8335 -0.0544\n",
       "idade  -0.1501  1.0000  0.0021 -0.0495 -0.0675 -0.0371  0.6756\n",
       "imc    -0.1168  0.0021  1.0000  0.0030  0.3908 -0.1175  0.0887\n",
       "horas   0.8317 -0.0495  0.0030  1.0000 -0.0403  0.8727  0.0054\n",
       "massa  -0.2799 -0.0675  0.3908 -0.0403  1.0000 -0.3337 -0.0596\n",
       "gasto   0.8335 -0.0371 -0.1175  0.8727 -0.3337  1.0000  0.0020\n",
       "estudo -0.0544  0.6756  0.0887  0.0054 -0.0596  0.0020  1.0000"
      ]
     },
     "execution_count": 25,
     "metadata": {},
     "output_type": "execute_result"
    }
   ],
   "source": [
    "corr = df.corr() ## calculando a correlação entre as variáveis\n",
    "corr.round(4) ## matriz de correlação"
   ]
  },
  {
   "cell_type": "markdown",
   "metadata": {},
   "source": [
    "Gráfico de mapa de calor para a vizualização das correlações entre as variáveis:"
   ]
  },
  {
   "cell_type": "code",
   "execution_count": 26,
   "metadata": {
    "scrolled": true
   },
   "outputs": [
    {
     "data": {
      "image/png": "[encoded data removed]",
      "text/plain": [
       "<Figure size 720x432 with 2 Axes>"
      ]
     },
     "metadata": {
      "needs_background": "light"
     },
     "output_type": "display_data"
    }
   ],
   "source": [
    "plt.figure(figsize = (10,6))\n",
    "sns.heatmap(corr, annot = True, cmap ='BuPu')\n",
    "\n",
    "plt.show()"
   ]
  },
  {
   "cell_type": "markdown",
   "metadata": {},
   "source": [
    "Observações:\n",
    "- A variável dependente tem forte correlação positiva com horas e gasto;\n",
    "- Gasto e horas tem forte correlação positiva também;\n",
    "- Idade e estudo tem moderata correlação postiva;\n",
    "- Massa e gasto tem uma fraca correlação negativa."
   ]
  },
  {
   "cell_type": "markdown",
   "metadata": {},
   "source": [
    "## b)\n",
    "Ajuste um modelo de regressão linear múltipla tomando o escore de desempenho como a variável resposta. Escreva a expressão do modelo ajustado;"
   ]
  },
  {
   "cell_type": "markdown",
   "metadata": {},
   "source": [
    "## Ajustando o modelo de Regressão Linear Múltipla, com y = Escore."
   ]
  },
  {
   "cell_type": "markdown",
   "metadata": {},
   "source": [
    "### Separando as variáveis"
   ]
  },
  {
   "cell_type": "code",
   "execution_count": 27,
   "metadata": {},
   "outputs": [],
   "source": [
    "X = df.iloc[:,1:].values\n",
    "y = df.iloc[:,0].values"
   ]
  },
  {
   "cell_type": "markdown",
   "metadata": {},
   "source": [
    "#### Fazendo pelo método matricial"
   ]
  },
  {
   "attachments": {
    "image.png": {
     "image/png": "[encoded data removed]"
    }
   },
   "cell_type": "markdown",
   "metadata": {},
   "source": [
    "![image.png](attachment:image.png)"
   ]
  },
  {
   "cell_type": "code",
   "execution_count": 28,
   "metadata": {},
   "outputs": [
    {
     "data": {
      "text/plain": [
       "array([[ 30.  ,  20.5 ,  19.  ,  21.66,  72.  ,  15.  ],\n",
       "       [ 30.  ,  21.  ,  23.  ,  20.5 , 130.  ,  15.  ],\n",
       "       [ 23.  ,  21.3 ,  13.  ,  19.39,  68.  ,  10.  ],\n",
       "       [ 23.  ,  22.7 ,  16.  ,  23.41,  64.  ,  11.  ],\n",
       "       [ 27.  ,  22.6 ,  20.  ,  20.72, 101.  ,  12.  ]])"
      ]
     },
     "execution_count": 28,
     "metadata": {},
     "output_type": "execute_result"
    }
   ],
   "source": [
    "X[:5,:] ## 5 primeiras linhas de X"
   ]
  },
  {
   "cell_type": "code",
   "execution_count": 29,
   "metadata": {},
   "outputs": [
    {
     "data": {
      "text/plain": [
       "array([79.6, 80.7, 65.6, 75. , 84.6])"
      ]
     },
     "execution_count": 29,
     "metadata": {},
     "output_type": "execute_result"
    }
   ],
   "source": [
    "y[:5] ## 5 primeiras linhas de y"
   ]
  },
  {
   "cell_type": "code",
   "execution_count": 30,
   "metadata": {},
   "outputs": [],
   "source": [
    "## Adicionando o vetor de 1's\n",
    "ones = np.repeat(1,X.shape[0])"
   ]
  },
  {
   "cell_type": "code",
   "execution_count": 31,
   "metadata": {
    "scrolled": true
   },
   "outputs": [
    {
     "data": {
      "text/plain": [
       "(200, 1)"
      ]
     },
     "execution_count": 31,
     "metadata": {},
     "output_type": "execute_result"
    }
   ],
   "source": [
    "ones = ones.reshape(-1,1) ## formato vetor\n",
    "ones.shape"
   ]
  },
  {
   "cell_type": "code",
   "execution_count": 32,
   "metadata": {},
   "outputs": [],
   "source": [
    "X_matrix = np.hstack([ones.reshape(-1,1), X]) ## juntando o vetor e a matrix"
   ]
  },
  {
   "cell_type": "code",
   "execution_count": 33,
   "metadata": {},
   "outputs": [
    {
     "data": {
      "text/plain": [
       "array([[  1.  ,  30.  ,  20.5 , ...,  21.66,  72.  ,  15.  ],\n",
       "       [  1.  ,  30.  ,  21.  , ...,  20.5 , 130.  ,  15.  ],\n",
       "       [  1.  ,  23.  ,  21.3 , ...,  19.39,  68.  ,  10.  ],\n",
       "       ...,\n",
       "       [  1.  ,  27.  ,  23.  , ...,  21.69,  99.  ,  15.  ],\n",
       "       [  1.  ,  18.  ,  21.1 , ...,  19.52,  59.  ,   9.  ],\n",
       "       [  1.  ,  24.  ,  21.2 , ...,  21.07,  59.  ,  10.  ]])"
      ]
     },
     "execution_count": 33,
     "metadata": {},
     "output_type": "execute_result"
    }
   ],
   "source": [
    "X_matrix"
   ]
  },
  {
   "cell_type": "code",
   "execution_count": 34,
   "metadata": {},
   "outputs": [
    {
     "data": {
      "text/plain": [
       "(200, 1)"
      ]
     },
     "execution_count": 34,
     "metadata": {},
     "output_type": "execute_result"
    }
   ],
   "source": [
    "y_vetor = y.reshape(-1,1)\n",
    "y_vetor.shape"
   ]
  },
  {
   "cell_type": "markdown",
   "metadata": {},
   "source": [
    "Calculando a matriz de betas:"
   ]
  },
  {
   "cell_type": "code",
   "execution_count": 35,
   "metadata": {},
   "outputs": [],
   "source": [
    "parte1 = np.linalg.inv(np.matmul(X_matrix.T, X_matrix))"
   ]
  },
  {
   "cell_type": "code",
   "execution_count": 36,
   "metadata": {},
   "outputs": [],
   "source": [
    "parte2 = np.matmul(X_matrix.T,y)"
   ]
  },
  {
   "cell_type": "code",
   "execution_count": 37,
   "metadata": {},
   "outputs": [
    {
     "data": {
      "text/plain": [
       "array([83.39355814, -0.55917772, -0.22909211,  1.60564943, -1.34870955,\n",
       "        0.09559331,  0.15886723])"
      ]
     },
     "execution_count": 37,
     "metadata": {},
     "output_type": "execute_result"
    }
   ],
   "source": [
    "lista_betas = np.matmul(parte1, parte2)\n",
    "lista_betas ## lista com todos os betas"
   ]
  },
  {
   "cell_type": "code",
   "execution_count": 38,
   "metadata": {},
   "outputs": [
    {
     "data": {
      "text/plain": [
       "array([[83.39355814],\n",
       "       [-0.55917772],\n",
       "       [-0.22909211],\n",
       "       [ 1.60564943],\n",
       "       [-1.34870955],\n",
       "       [ 0.09559331],\n",
       "       [ 0.15886723]])"
      ]
     },
     "execution_count": 38,
     "metadata": {},
     "output_type": "execute_result"
    }
   ],
   "source": [
    "## Vetor de betas\n",
    "betas = lista_betas.reshape(-1,1)\n",
    "betas"
   ]
  },
  {
   "cell_type": "code",
   "execution_count": 39,
   "metadata": {},
   "outputs": [
    {
     "data": {
      "text/plain": [
       "83.39355813976726"
      ]
     },
     "execution_count": 39,
     "metadata": {},
     "output_type": "execute_result"
    }
   ],
   "source": [
    "lista_betas[0]"
   ]
  },
  {
   "cell_type": "code",
   "execution_count": 40,
   "metadata": {},
   "outputs": [
    {
     "data": {
      "text/plain": [
       "Index(['idade', 'imc', 'horas', 'massa', 'gasto', 'estudo'], dtype='object')"
      ]
     },
     "execution_count": 40,
     "metadata": {},
     "output_type": "execute_result"
    }
   ],
   "source": [
    "df.columns[1:]"
   ]
  },
  {
   "cell_type": "markdown",
   "metadata": {},
   "source": [
    "Expressão do modelo ajustado:"
   ]
  },
  {
   "cell_type": "markdown",
   "metadata": {},
   "source": [
    "$$\n",
    "\\begin{equation}\n",
    "\\hat{Y} = 83.3936 - 0.5592 \\times X_{1} - 0.2291 \\times X_{2} +\n",
    " 1.6056 \\times X_{3} - 1.3487  \\times X_{4} +  0.0956 \\times X_{5}\n",
    "\\end{equation}\n",
    "$$"
   ]
  },
  {
   "cell_type": "code",
   "execution_count": 41,
   "metadata": {},
   "outputs": [
    {
     "name": "stdout",
     "output_type": "stream",
     "text": [
      "Beta0 (intercepto): 83.3936\n",
      "Beta1 (idade): -0.5592\n",
      "Beta2 (imc): -0.2291\n",
      "Beta3 (horas): 1.6056\n",
      "Beta4 (massa): -1.3487\n",
      "Beta5 (gasto): 0.0956\n",
      "Beta6 (estudo): 0.1589\n"
     ]
    }
   ],
   "source": [
    "print(\"Beta0 (intercepto): {:.4f}\".format(lista_betas[0]))\n",
    "\n",
    "for i, beta, variavel in zip(range(len(list(lista_betas[1:]))), list(lista_betas)[1:], df.columns[1:]):\n",
    "    print(\"Beta{} ({}): {:.4f}\".format(i+1,variavel, beta))"
   ]
  },
  {
   "cell_type": "markdown",
   "metadata": {},
   "source": [
    "## c)\n",
    "Qual o valor ajustado pelo modelo para a primeira atleta da base? Qual o resíduo correspondente?"
   ]
  },
  {
   "cell_type": "markdown",
   "metadata": {},
   "source": [
    "### Fazer predições"
   ]
  },
  {
   "attachments": {
    "image.png": {
     "image/png": "[encoded data removed]"
    }
   },
   "cell_type": "markdown",
   "metadata": {},
   "source": [
    "![image.png](attachment:image.png)"
   ]
  },
  {
   "cell_type": "markdown",
   "metadata": {},
   "source": [
    "Extraíndo o valor da primeira atleta da matriz X:"
   ]
  },
  {
   "cell_type": "code",
   "execution_count": 42,
   "metadata": {},
   "outputs": [
    {
     "data": {
      "text/plain": [
       "array([[ 1.  ],\n",
       "       [30.  ],\n",
       "       [20.5 ],\n",
       "       [19.  ],\n",
       "       [21.66],\n",
       "       [72.  ],\n",
       "       [15.  ]])"
      ]
     },
     "execution_count": 42,
     "metadata": {},
     "output_type": "execute_result"
    }
   ],
   "source": [
    "x0 = X_matrix[0,:] \n",
    "x0 = x0.reshape(-1,1)\n",
    "x0"
   ]
  },
  {
   "cell_type": "code",
   "execution_count": 43,
   "metadata": {},
   "outputs": [
    {
     "data": {
      "text/plain": [
       "(7, 1)"
      ]
     },
     "execution_count": 43,
     "metadata": {},
     "output_type": "execute_result"
    }
   ],
   "source": [
    "betas.shape"
   ]
  },
  {
   "cell_type": "code",
   "execution_count": 44,
   "metadata": {},
   "outputs": [
    {
     "data": {
      "text/plain": [
       "(1, 7)"
      ]
     },
     "execution_count": 44,
     "metadata": {},
     "output_type": "execute_result"
    }
   ],
   "source": [
    "x0.T.shape ## Transposta do vetor x0"
   ]
  },
  {
   "cell_type": "code",
   "execution_count": 45,
   "metadata": {},
   "outputs": [
    {
     "name": "stdout",
     "output_type": "stream",
     "text": [
      "(1, 1)\n",
      "Valor predito para a primeira atleta: 72.4819\n"
     ]
    }
   ],
   "source": [
    "predicao = np.matmul(x0.T, betas)\n",
    "print(predicao.shape) ## Dimensão da predição\n",
    "print(\"Valor predito para a primeira atleta: {:.4f}\".format(float(predicao)))"
   ]
  },
  {
   "cell_type": "markdown",
   "metadata": {},
   "source": [
    "Resíduo correspondente para a primeira atleta:"
   ]
  },
  {
   "cell_type": "code",
   "execution_count": 46,
   "metadata": {},
   "outputs": [
    {
     "name": "stdout",
     "output_type": "stream",
     "text": [
      "Resíduo correspondente para a primeira atleta: 7.1181\n"
     ]
    }
   ],
   "source": [
    "residuo = float(y[0]) - float(predicao)\n",
    "print(\"Resíduo correspondente para a primeira atleta: {:.4f}\".format(residuo))"
   ]
  },
  {
   "cell_type": "markdown",
   "metadata": {},
   "source": [
    "## d)\n",
    "Qual a probabilidade estimada de um atleta com características semelhantes à 1ª atleta da base ter escore de desempenho superior a 80? E entre 65 e 75?"
   ]
  },
  {
   "attachments": {
    "image.png": {
     "image/png": "[encoded data removed]"
    }
   },
   "cell_type": "markdown",
   "metadata": {},
   "source": [
    "![image.png](attachment:image.png)"
   ]
  },
  {
   "cell_type": "markdown",
   "metadata": {},
   "source": [
    "Calcular a matrix de variância das estimativas"
   ]
  },
  {
   "attachments": {
    "image.png": {
     "image/png": "[encoded data removed]"
    }
   },
   "cell_type": "markdown",
   "metadata": {},
   "source": [
    "![image.png](attachment:image.png)"
   ]
  },
  {
   "attachments": {
    "image.png": {
     "image/png": "[encoded data removed]"
    }
   },
   "cell_type": "markdown",
   "metadata": {},
   "source": [
    "![image.png](attachment:image.png)"
   ]
  },
  {
   "cell_type": "markdown",
   "metadata": {},
   "source": [
    "$$\n",
    "\\hat{\\sigma^{2}} = QMR = \\dfrac{SQR}{n - p} \\quad| \\quad \\text{n = número de observações, p = coeficientes estimados}\n",
    "$$"
   ]
  },
  {
   "cell_type": "markdown",
   "metadata": {},
   "source": [
    "Estimando $\\sigma^{2}$:"
   ]
  },
  {
   "cell_type": "markdown",
   "metadata": {},
   "source": [
    "Estimaremos todos os valores da base de dados:"
   ]
  },
  {
   "cell_type": "code",
   "execution_count": 47,
   "metadata": {},
   "outputs": [
    {
     "data": {
      "text/plain": [
       "((200, 7), (7, 1))"
      ]
     },
     "execution_count": 47,
     "metadata": {},
     "output_type": "execute_result"
    }
   ],
   "source": [
    "X_matrix.shape, betas.shape"
   ]
  },
  {
   "cell_type": "code",
   "execution_count": 48,
   "metadata": {},
   "outputs": [
    {
     "data": {
      "text/plain": [
       "(200, 1)"
      ]
     },
     "execution_count": 48,
     "metadata": {},
     "output_type": "execute_result"
    }
   ],
   "source": [
    "## Prevendo para toda a base de dados\n",
    "predicoes = np.matmul(X_matrix, betas)\n",
    "predicoes_lista = predicoes.reshape(1,-1).tolist()\n",
    "predicoes.shape"
   ]
  },
  {
   "cell_type": "code",
   "execution_count": 49,
   "metadata": {},
   "outputs": [
    {
     "name": "stdout",
     "output_type": "stream",
     "text": [
      "n =  200\n",
      "p =  7\n"
     ]
    }
   ],
   "source": [
    "n = X_matrix.shape[0] ## número de indivíduos\n",
    "p = betas.shape[0]    ## número de coeficientes estimados\n",
    "print(\"n = \", n)\n",
    "print(\"p = \", p)"
   ]
  },
  {
   "cell_type": "code",
   "execution_count": 50,
   "metadata": {},
   "outputs": [
    {
     "data": {
      "text/plain": [
       "(1, 200)"
      ]
     },
     "execution_count": 50,
     "metadata": {},
     "output_type": "execute_result"
    }
   ],
   "source": [
    "residuos = y - predicoes_lista\n",
    "residuos.shape"
   ]
  },
  {
   "cell_type": "code",
   "execution_count": 51,
   "metadata": {},
   "outputs": [
    {
     "name": "stdout",
     "output_type": "stream",
     "text": [
      "Soma dos quadrados dos resíduos: 5620.8514\n"
     ]
    }
   ],
   "source": [
    "## Soma dos quadrados dos resíduos\n",
    "SQR = np.sum(residuos**2)\n",
    "print(\"Soma dos quadrados dos resíduos: {:.4f}\".format(SQR))"
   ]
  },
  {
   "cell_type": "code",
   "execution_count": 52,
   "metadata": {},
   "outputs": [
    {
     "name": "stdout",
     "output_type": "stream",
     "text": [
      "Quadrado médio dos resíduos: 29.1236\n"
     ]
    }
   ],
   "source": [
    "## Quadrado médio dos resíduos\n",
    "QMR = SQR / (n-p)\n",
    "print(\"Quadrado médio dos resíduos: {:.4f}\".format(QMR))"
   ]
  },
  {
   "cell_type": "markdown",
   "metadata": {},
   "source": [
    " Matriz $(X'X)^{-1}$"
   ]
  },
  {
   "cell_type": "code",
   "execution_count": 53,
   "metadata": {},
   "outputs": [
    {
     "data": {
      "text/plain": [
       "(7, 7)"
      ]
     },
     "execution_count": 53,
     "metadata": {},
     "output_type": "execute_result"
    }
   ],
   "source": [
    "matrix_XX = np.linalg.inv(np.matmul(X_matrix.T, X_matrix))\n",
    "matrix_XX.shape"
   ]
  },
  {
   "cell_type": "markdown",
   "metadata": {},
   "source": [
    "$$\n",
    "\\begin{equation}\n",
    "\\sigma^{2} x'_{0} (X'X)^{-1} x_{0} \n",
    "\\end{equation}\n",
    "$$"
   ]
  },
  {
   "cell_type": "code",
   "execution_count": 54,
   "metadata": {},
   "outputs": [
    {
     "data": {
      "text/plain": [
       "((1, 7), (7, 7), (7, 1))"
      ]
     },
     "execution_count": 54,
     "metadata": {},
     "output_type": "execute_result"
    }
   ],
   "source": [
    "x0.T.shape, matrix_XX.shape, x0.shape"
   ]
  },
  {
   "cell_type": "code",
   "execution_count": 55,
   "metadata": {},
   "outputs": [
    {
     "name": "stdout",
     "output_type": "stream",
     "text": [
      "Erro padrão para x0: 1.4173\n"
     ]
    }
   ],
   "source": [
    "## erro padrão para x0\n",
    "ep_x0 = np.matmul(np.matmul(QMR * x0.T, matrix_XX),x0)\n",
    "print(\"Erro padrão para x0: {:.4f}\".format(float(ep_x0)))"
   ]
  },
  {
   "cell_type": "markdown",
   "metadata": {},
   "source": [
    "$$\n",
    "\\widehat{E(y|x_{0})} \\pm t_{n-p, \\alpha/2} \\sqrt{\\sigma^{2} x'_{0} (X'X)^{-1} x_{0} }\n",
    "$$\n",
    "\n",
    "$$\n",
    "80 = t_{193,\\alpha/2} \\times 1.4173 \\\\\n",
    "t_{193,\\alpha/2} = 56.4454\n",
    "$$"
   ]
  },
  {
   "cell_type": "markdown",
   "metadata": {},
   "source": [
    "A chance do perfil com tais características com esse perfil é quase inexistente, isto é, um valor muito abaixo de zero de acordo com o quantil 56.4454 aplicado na distribuição *t-student* com 193 graus de liberdade. "
   ]
  },
  {
   "cell_type": "markdown",
   "metadata": {},
   "source": [
    "## e)\n",
    "Quais variáveis são estatisticamente significativas ao nível de 5% de significância?"
   ]
  },
  {
   "attachments": {
    "image.png": {
     "image/png": "[encoded data removed]"
    }
   },
   "cell_type": "markdown",
   "metadata": {},
   "source": [
    "![image.png](attachment:image.png)"
   ]
  },
  {
   "cell_type": "markdown",
   "metadata": {},
   "source": [
    "### H0: Beta vale zero\n",
    "### H1: Beta não vale zero"
   ]
  },
  {
   "cell_type": "markdown",
   "metadata": {},
   "source": [
    "$(X'X)^{-1}_{jj}$"
   ]
  },
  {
   "cell_type": "code",
   "execution_count": 56,
   "metadata": {},
   "outputs": [
    {
     "data": {
      "text/plain": [
       "array([2.97687639e+00, 1.12607286e-03, 3.98321149e-03, 1.55852194e-03,\n",
       "       4.01179355e-03, 5.17678205e-05, 2.08667794e-03])"
      ]
     },
     "execution_count": 56,
     "metadata": {},
     "output_type": "execute_result"
    }
   ],
   "source": [
    "diagonal = np.diag(np.linalg.inv(np.matmul(X_matrix.T,X_matrix))) ## dentro1 = multiplicação de matrizes \n",
    "diagonal                                            ## dentro2 = inversa"
   ]
  },
  {
   "cell_type": "markdown",
   "metadata": {},
   "source": [
    "Estimador para $\\sigma^{2}$"
   ]
  },
  {
   "cell_type": "code",
   "execution_count": 57,
   "metadata": {},
   "outputs": [
    {
     "data": {
      "text/plain": [
       "29.123582383500278"
      ]
     },
     "execution_count": 57,
     "metadata": {},
     "output_type": "execute_result"
    }
   ],
   "source": [
    "QMR"
   ]
  },
  {
   "cell_type": "markdown",
   "metadata": {},
   "source": [
    "$$\n",
    "ep(\\beta_{j}) = \\sqrt{\\sigma^{2} (X'X)^{-1}_{jj}}\n",
    "$$"
   ]
  },
  {
   "cell_type": "code",
   "execution_count": 58,
   "metadata": {},
   "outputs": [
    {
     "data": {
      "text/plain": [
       "array([9.31113875, 0.18109466, 0.34059564, 0.21304868, 0.34181545,\n",
       "       0.03882865, 0.24651884])"
      ]
     },
     "execution_count": 58,
     "metadata": {},
     "output_type": "execute_result"
    }
   ],
   "source": [
    "ep_betas = np.sqrt(QMR * diagonal)\n",
    "ep_betas"
   ]
  },
  {
   "cell_type": "code",
   "execution_count": 59,
   "metadata": {},
   "outputs": [
    {
     "data": {
      "text/plain": [
       "array([ 8.95632214, -3.08776483, -0.67262198,  7.53653764, -3.9457244 ,\n",
       "        2.46192703,  0.64444258])"
      ]
     },
     "execution_count": 59,
     "metadata": {},
     "output_type": "execute_result"
    }
   ],
   "source": [
    "est_t_test = lista_betas/ep_betas\n",
    "est_t_test"
   ]
  },
  {
   "attachments": {
    "image.png": {
     "image/png": "[encoded data removed]"
    }
   },
   "cell_type": "markdown",
   "metadata": {},
   "source": [
    "### - Valor tabelado na distribuição _t-student_ com 95% de confiança e 193 graus de liberdade\n",
    "![image.png](attachment:image.png)"
   ]
  },
  {
   "cell_type": "code",
   "execution_count": 60,
   "metadata": {},
   "outputs": [
    {
     "name": "stdout",
     "output_type": "stream",
     "text": [
      "beta[0] é estatisticamente significante\n",
      "beta[1] é estatisticamente significante\n",
      "beta[2] não é estatisticamente significante\n",
      "beta[3] é estatisticamente significante\n",
      "beta[4] é estatisticamente significante\n",
      "beta[5] é estatisticamente significante\n",
      "beta[6] não é estatisticamente significante\n"
     ]
    }
   ],
   "source": [
    "## teste para cada coeficiente utilizando os valores absolutos\n",
    "quantil = 1.973\n",
    "\n",
    "for i, estatistica in enumerate(np.abs(est_t_test)):\n",
    "    if estatistica > quantil:\n",
    "        print(\"beta{} é estatisticamente significante\".format([i]))\n",
    "    else:\n",
    "        print(\"beta{} não é estatisticamente significante\".format([i]))"
   ]
  },
  {
   "cell_type": "markdown",
   "metadata": {},
   "source": [
    "O teste t para os coeficientes mostra que as variáveis **imc** e **estudo** não são estatisticamente significantes para o modelo, pelo fato dos valores das suas estatísticas de teste recaírem na região crítica da distribuição"
   ]
  },
  {
   "cell_type": "markdown",
   "metadata": {},
   "source": [
    "## f) \n",
    "Qual a variação esperada no escore de desempenho para um aumento de 1% de massa gorda, mantendo fixas as demais variáveis?"
   ]
  },
  {
   "cell_type": "code",
   "execution_count": 61,
   "metadata": {},
   "outputs": [
    {
     "data": {
      "text/plain": [
       "array([-1.34870955])"
      ]
     },
     "execution_count": 61,
     "metadata": {},
     "output_type": "execute_result"
    }
   ],
   "source": [
    "betas[4]"
   ]
  },
  {
   "cell_type": "markdown",
   "metadata": {},
   "source": [
    "Respeitando o conceito _ceteris paribus_ (mantendo todas as demais condições fixas), espera-se um decréscimo de aproximadamente 1,3487 no escore ao diminuir 1% de massa gorda."
   ]
  },
  {
   "cell_type": "markdown",
   "metadata": {},
   "source": [
    "## g)\n",
    "Qual a variação esperada no escore de desempenho para 1 ano a mais de idade, mantendo fixas as demais variáveis?"
   ]
  },
  {
   "cell_type": "code",
   "execution_count": 62,
   "metadata": {},
   "outputs": [
    {
     "data": {
      "text/plain": [
       "array([-0.55917772])"
      ]
     },
     "execution_count": 62,
     "metadata": {},
     "output_type": "execute_result"
    }
   ],
   "source": [
    "## ceteris paribus\n",
    "betas[1]"
   ]
  },
  {
   "cell_type": "markdown",
   "metadata": {},
   "source": [
    "Deixando as demais situações fixas, com o aumento de um ano na idade, nota-se o decréscimo de 0.55 no escore. "
   ]
  },
  {
   "cell_type": "markdown",
   "metadata": {},
   "source": [
    "## h)\n",
    "Qual a variação esperada no escore de desempenho para 20 reais semanais a mais gastos com suplementos alimentares?"
   ]
  },
  {
   "cell_type": "code",
   "execution_count": 63,
   "metadata": {},
   "outputs": [
    {
     "name": "stdout",
     "output_type": "stream",
     "text": [
      "Influência em 1 real:  0.09559331319857733\n",
      "Influência para 20 reais:  1.9118662639715467\n"
     ]
    }
   ],
   "source": [
    "print(\"Influência em 1 real: \", float(betas[5]))\n",
    "print(\"Influência para 20 reais: \", float(betas[5]*20))"
   ]
  },
  {
   "cell_type": "markdown",
   "metadata": {},
   "source": [
    "Alocando as demais variáveis constantes, espera-se um aumento de 1.91 no percentual do escore ao utilizar 20 reais a mais com gastos de suplementos alimentares."
   ]
  },
  {
   "cell_type": "markdown",
   "metadata": {},
   "source": [
    "## i) \n",
    "Obtenha intervalos de confiança (95%) para os parâmetros do modelo"
   ]
  },
  {
   "attachments": {
    "image.png": {
     "image/png": "[encoded data removed]"
    }
   },
   "cell_type": "markdown",
   "metadata": {},
   "source": [
    "![image.png](attachment:image.png)"
   ]
  },
  {
   "cell_type": "markdown",
   "metadata": {},
   "source": [
    "matriz $(X'X)_{jj}^{-1}$"
   ]
  },
  {
   "cell_type": "code",
   "execution_count": 64,
   "metadata": {},
   "outputs": [
    {
     "data": {
      "text/plain": [
       "array([2.97687639e+00, 1.12607286e-03, 3.98321149e-03, 1.55852194e-03,\n",
       "       4.01179355e-03, 5.17678205e-05, 2.08667794e-03])"
      ]
     },
     "execution_count": 64,
     "metadata": {},
     "output_type": "execute_result"
    }
   ],
   "source": [
    "## Calculada na parte dos testes estatísticos para os coeficientes\n",
    "diagonal"
   ]
  },
  {
   "cell_type": "code",
   "execution_count": 65,
   "metadata": {},
   "outputs": [
    {
     "name": "stdout",
     "output_type": "stream",
     "text": [
      "Erros-padrões dos coeficientes:\n",
      " [9.31113875 0.18109466 0.34059564 0.21304868 0.34181545 0.03882865\n",
      " 0.24651884]\n",
      "Erros-amostrais dos coeficientes:\n",
      " [18.37087675  0.35729976  0.67199519  0.42034505  0.67440188  0.07660893\n",
      "  0.48638166]\n"
     ]
    }
   ],
   "source": [
    "## tc =  1.973\n",
    "ep_betas = np.sqrt(QMR*diagonal)\n",
    "ea_betas = 1.973 * ep_betas\n",
    "print(\"Erros-padrões dos coeficientes:\\n {}\".format(ep_betas)) # erros-padrões dos coeficientes\n",
    "print(\"Erros-amostrais dos coeficientes:\\n {}\".format(ea_betas))# erros-amostrais dos coeficientes"
   ]
  },
  {
   "cell_type": "code",
   "execution_count": 66,
   "metadata": {},
   "outputs": [
    {
     "name": "stdout",
     "output_type": "stream",
     "text": [
      "Intervalo de confiança(95%) para beta0: \n",
      " [65.02, 101.76]\n",
      "Intervalo de confiança(95%) para beta1: \n",
      " [-0.92, -0.20]\n",
      "Intervalo de confiança(95%) para beta2: \n",
      " [-0.90, 0.44]\n",
      "Intervalo de confiança(95%) para beta3: \n",
      " [1.19, 2.03]\n",
      "Intervalo de confiança(95%) para beta4: \n",
      " [-2.02, -0.67]\n",
      "Intervalo de confiança(95%) para beta5: \n",
      " [0.02, 0.17]\n",
      "Intervalo de confiança(95%) para beta6: \n",
      " [-0.33, 0.65]\n"
     ]
    }
   ],
   "source": [
    "## Laço para calcular o intervalo para cada beta\n",
    "for i, beta, erro_amostral in zip(range(len(lista_betas)), lista_betas, ea_betas):\n",
    "    print(\"Intervalo de confiança(95%) para beta{}: \\n [{:.2f}, {:.2f}]\".format(i, (beta - erro_amostral), (beta + erro_amostral)))"
   ]
  },
  {
   "cell_type": "markdown",
   "metadata": {},
   "source": [
    "## j)\n",
    "Com base nos intervalos de confiança obtidos, você rejeitaria, ao nível de significância de 5%, a hipótese de não efeito da massa muscular no desempenho dos atletas? Justifique sua resposta;"
   ]
  },
  {
   "cell_type": "code",
   "execution_count": 67,
   "metadata": {},
   "outputs": [
    {
     "name": "stdout",
     "output_type": "stream",
     "text": [
      "coeficiente para massa muscular: [-1.34870955]\n"
     ]
    }
   ],
   "source": [
    "print(f\"coeficiente para massa muscular: {betas[4]}\")"
   ]
  },
  {
   "cell_type": "code",
   "execution_count": 68,
   "metadata": {},
   "outputs": [
    {
     "name": "stdout",
     "output_type": "stream",
     "text": [
      "Intervalo de confiança para a massa muscular(beta4) a 95%: [-2.02; -0.67]\n"
     ]
    }
   ],
   "source": [
    "print(\"Intervalo de confiança para a massa muscular(beta4) a 95%: [{:.2f}; {:.2f}]\". format(lista_betas[4] - ea_betas[4],\n",
    "                                                                             lista_betas[4] + ea_betas[4]))"
   ]
  },
  {
   "cell_type": "markdown",
   "metadata": {},
   "source": [
    "Dado que o módulo da estatística de teste é maior que o quantil da distribuição t-student, podemos afirmar que a variável massa é estatísticamente significante. Portanto, rejeitamos a hipótese nula de que o coeficiente vale zero."
   ]
  },
  {
   "cell_type": "markdown",
   "metadata": {},
   "source": [
    "Também, o intervalo de confiança para o coefiente da massa muscular não contém zero, o que mostra que esta variável tem influência no modelo elaborado."
   ]
  },
  {
   "cell_type": "markdown",
   "metadata": {},
   "source": [
    "## k) \n",
    "Ainda com base nos intervalos de confiança, você rejeitaria a hipótese de que o desempenho caia, em média, dois pontos para 1% a mais de massa gorda? Justifique."
   ]
  },
  {
   "cell_type": "code",
   "execution_count": 69,
   "metadata": {},
   "outputs": [
    {
     "name": "stdout",
     "output_type": "stream",
     "text": [
      "Intervalo de confiança para a massa muscular(beta4) a 95%: [-2.02; -0.67]\n"
     ]
    }
   ],
   "source": [
    "print(\"Intervalo de confiança para a massa muscular(beta4) a 95%: [{:.2f}; {:.2f}]\". format(lista_betas[4] - ea_betas[4],\n",
    "                                                                             lista_betas[4] + ea_betas[4]))"
   ]
  },
  {
   "cell_type": "markdown",
   "metadata": {},
   "source": [
    "Não rejeitaria. Pelo fato do intervalo de confiança a cerca da variação de $\\beta_{4}$ (massa gorda) poder variar até -2,02 no limite inferior. Nesse viés, existem evidências estatísticas que o escore pode diminuir em dois pontos ao incrmentar 1% de massa gorda."
   ]
  },
  {
   "cell_type": "markdown",
   "metadata": {},
   "source": [
    "l) Obtenha a elipse de 95% de confiança para os parâmetros referentes aos efeitos de massa gorda e idade. Adicionalmente, obtenha intervalos de confiança simultâneos, com nível de confiança conjunto igual a 95%. Represente num único gráfico a região de confiança e os intervalos de confiança 95% simultâneos e individuais;"
   ]
  },
  {
   "cell_type": "code",
   "execution_count": 70,
   "metadata": {},
   "outputs": [
    {
     "name": "stdout",
     "output_type": "stream",
     "text": [
      "Intervalo de confiança para a massa gorda(beta4) a 95%: [-2.02; -0.67]\n"
     ]
    }
   ],
   "source": [
    "## massa gorda\n",
    "\n",
    "print(\"Intervalo de confiança para a massa gorda(beta4) a 95%: [{:.2f}; {:.2f}]\". format(lista_betas[4] - ea_betas[4],\n",
    "                                                                             lista_betas[4] + ea_betas[4]))"
   ]
  },
  {
   "cell_type": "code",
   "execution_count": 71,
   "metadata": {},
   "outputs": [
    {
     "name": "stdout",
     "output_type": "stream",
     "text": [
      "Intervalo de confiança para a idade(beta1) a 95%: [-0.92; -0.20]\n"
     ]
    }
   ],
   "source": [
    "## idade\n",
    "\n",
    "print(\"Intervalo de confiança para a idade(beta1) a 95%: [{:.2f}; {:.2f}]\". format(lista_betas[1] - ea_betas[1],\n",
    "                                                                             lista_betas[1] + ea_betas[1]))"
   ]
  },
  {
   "cell_type": "code",
   "execution_count": 72,
   "metadata": {},
   "outputs": [],
   "source": [
    "ic_massa = np.linspace(-2.02, -0.67, 1000)\n",
    "ic_idade = np.linspace(-0.92, -0.20, 1000)"
   ]
  },
  {
   "cell_type": "code",
   "execution_count": 73,
   "metadata": {},
   "outputs": [
    {
     "data": {
      "text/plain": [
       "['Solarize_Light2',\n",
       " '_classic_test_patch',\n",
       " 'bmh',\n",
       " 'classic',\n",
       " 'dark_background',\n",
       " 'fast',\n",
       " 'fivethirtyeight',\n",
       " 'ggplot',\n",
       " 'grayscale',\n",
       " 'seaborn',\n",
       " 'seaborn-bright',\n",
       " 'seaborn-colorblind',\n",
       " 'seaborn-dark',\n",
       " 'seaborn-dark-palette',\n",
       " 'seaborn-darkgrid',\n",
       " 'seaborn-deep',\n",
       " 'seaborn-muted',\n",
       " 'seaborn-notebook',\n",
       " 'seaborn-paper',\n",
       " 'seaborn-pastel',\n",
       " 'seaborn-poster',\n",
       " 'seaborn-talk',\n",
       " 'seaborn-ticks',\n",
       " 'seaborn-white',\n",
       " 'seaborn-whitegrid',\n",
       " 'tableau-colorblind10']"
      ]
     },
     "execution_count": 73,
     "metadata": {},
     "output_type": "execute_result"
    }
   ],
   "source": [
    "plt.style.available"
   ]
  },
  {
   "cell_type": "code",
   "execution_count": 74,
   "metadata": {},
   "outputs": [
    {
     "data": {
      "image/png": "[encoded data removed]",
      "text/plain": [
       "<Figure size 576x432 with 1 Axes>"
      ]
     },
     "metadata": {
      "needs_background": "light"
     },
     "output_type": "display_data"
    }
   ],
   "source": [
    "plt.style.use('tableau-colorblind10')\n",
    "\n",
    "u= np.median(ic_massa)    # posição do x central\n",
    "v= np.median(ic_idade)    # posição do y central\n",
    "a= np.max(ic_massa) - np.median(ic_massa)    # raio do eixo-x\n",
    "b= np.max(ic_idade) - np.median(ic_idade)    # raio do eixo-y\n",
    "\n",
    "t = np.linspace(0, 2*pi, 100)\n",
    "\n",
    "plt.figure(figsize = (8,6))\n",
    "plt.plot( u+a*np.cos(t) , v+b*np.sin(t), color = 'purple')\n",
    "plt.grid(color='lightgray',linestyle='--')\n",
    "\n",
    "plt.hlines(y = min(ic_idade), xmin = min(ic_massa),\n",
    "           xmax = max(ic_massa), linestyle = 'dashed', alpha = 0.1)\n",
    "\n",
    "plt.hlines(y = max(ic_idade), xmin = min(ic_massa),\n",
    "           xmax = max(ic_massa), linestyle = 'dashed',\n",
    "           alpha = 0.1)\n",
    "\n",
    "plt.vlines(x = min(ic_massa), ymin = min(ic_idade),\n",
    "           ymax = max(ic_idade), linestyle = 'dashed', color = 'tab:green',\n",
    "           alpha = 0.1)\n",
    "\n",
    "plt.vlines(x = max(ic_massa), ymin = min(ic_idade),\n",
    "           ymax = max(ic_idade), linestyle = 'dashed',\n",
    "           color = 'tab:green', alpha = 0.1)\n",
    "\n",
    "plt.title(\"Elipse de confiança de 95% de idade e massa\", fontsize = 14, pad = 12)\n",
    "plt.xlabel(\"Intervalo de confiança para massa\", labelpad = 12, fontsize = 12)\n",
    "plt.ylabel(\"Intervalo de confiança para idade\", labelpad = 12,  fontsize = 12)\n",
    "\n",
    "plt.xticks([min(ic_massa), max(ic_massa)])\n",
    "plt.yticks([min(ic_idade), max(ic_idade)])\n",
    "\n",
    "plt.xlim(min(ic_massa)- 0.1, max(ic_massa)+ 0.1)\n",
    "plt.ylim(min(ic_idade)- 0.1, max(ic_idade) + 0.1)\n",
    "\n",
    "plt.show()"
   ]
  },
  {
   "cell_type": "markdown",
   "metadata": {},
   "source": [
    "## m) \n",
    "Obtenha o quadro da análise de variância e conduza o teste da hipótese nula de não significância do modelo de regressão"
   ]
  },
  {
   "attachments": {
    "image.png": {
     "image/png": "[encoded data removed]"
    }
   },
   "cell_type": "markdown",
   "metadata": {},
   "source": [
    "![image.png](attachment:image.png)"
   ]
  },
  {
   "cell_type": "code",
   "execution_count": 75,
   "metadata": {},
   "outputs": [],
   "source": [
    "col_names = ['Graus de Liberdade',\n",
    "                'Soma de quadrados', 'Quadrados médios', \"F statistic\"]\n",
    "index_names = ['Regressão', 'Resíduos', 'Total']\n",
    "\n",
    "analise_variancia = pd.DataFrame(index = index_names, columns = col_names)"
   ]
  },
  {
   "cell_type": "code",
   "execution_count": 76,
   "metadata": {},
   "outputs": [
    {
     "data": {
      "text/html": [
       "<div>\n",
       "<style scoped>\n",
       "    .dataframe tbody tr th:only-of-type {\n",
       "        vertical-align: middle;\n",
       "    }\n",
       "\n",
       "    .dataframe tbody tr th {\n",
       "        vertical-align: top;\n",
       "    }\n",
       "\n",
       "    .dataframe thead th {\n",
       "        text-align: right;\n",
       "    }\n",
       "</style>\n",
       "<table border=\"1\" class=\"dataframe\">\n",
       "  <thead>\n",
       "    <tr style=\"text-align: right;\">\n",
       "      <th></th>\n",
       "      <th>Graus de Liberdade</th>\n",
       "      <th>Soma de quadrados</th>\n",
       "      <th>Quadrados médios</th>\n",
       "      <th>F statistic</th>\n",
       "    </tr>\n",
       "  </thead>\n",
       "  <tbody>\n",
       "    <tr>\n",
       "      <th>Regressão</th>\n",
       "      <td>NaN</td>\n",
       "      <td>NaN</td>\n",
       "      <td>NaN</td>\n",
       "      <td>NaN</td>\n",
       "    </tr>\n",
       "    <tr>\n",
       "      <th>Resíduos</th>\n",
       "      <td>NaN</td>\n",
       "      <td>NaN</td>\n",
       "      <td>NaN</td>\n",
       "      <td>NaN</td>\n",
       "    </tr>\n",
       "    <tr>\n",
       "      <th>Total</th>\n",
       "      <td>NaN</td>\n",
       "      <td>NaN</td>\n",
       "      <td>NaN</td>\n",
       "      <td>NaN</td>\n",
       "    </tr>\n",
       "  </tbody>\n",
       "</table>\n",
       "</div>"
      ],
      "text/plain": [
       "          Graus de Liberdade Soma de quadrados Quadrados médios F statistic\n",
       "Regressão                NaN               NaN              NaN         NaN\n",
       "Resíduos                 NaN               NaN              NaN         NaN\n",
       "Total                    NaN               NaN              NaN         NaN"
      ]
     },
     "execution_count": 76,
     "metadata": {},
     "output_type": "execute_result"
    }
   ],
   "source": [
    "analise_variancia"
   ]
  },
  {
   "cell_type": "code",
   "execution_count": 77,
   "metadata": {},
   "outputs": [
    {
     "data": {
      "text/plain": [
       "[6, 193, 199]"
      ]
     },
     "execution_count": 77,
     "metadata": {},
     "output_type": "execute_result"
    }
   ],
   "source": [
    "## Graus de liberdade\n",
    "gl_total = n - 1\n",
    "gl_residuos = n - p\n",
    "gl_regressao = p - 1\n",
    "\n",
    "graus_de_liberdade = [gl_regressao, gl_residuos, gl_total]\n",
    "graus_de_liberdade"
   ]
  },
  {
   "cell_type": "code",
   "execution_count": 78,
   "metadata": {},
   "outputs": [],
   "source": [
    "## Soma de quadrados\n",
    "SQT = np.sum((y - np.mean(y))**2)\n",
    "SQR = np.sum(residuos**2)\n",
    "SQreg = SQT - SQR"
   ]
  },
  {
   "cell_type": "code",
   "execution_count": 79,
   "metadata": {},
   "outputs": [
    {
     "name": "stdout",
     "output_type": "stream",
     "text": [
      "Soma dos quadrados totais:  25137.68\n",
      "Soma dos quadrados residuais:  5620.851400015554\n",
      "Soma dos quadrados da regressao:  19516.828599984445\n"
     ]
    }
   ],
   "source": [
    "Soma_quadrados = [SQreg, SQR, SQT]\n",
    "print(\"Soma dos quadrados totais: \", SQT)\n",
    "print(\"Soma dos quadrados residuais: \", SQR)\n",
    "print(\"Soma dos quadrados da regressao: \", SQreg)"
   ]
  },
  {
   "cell_type": "code",
   "execution_count": 80,
   "metadata": {},
   "outputs": [],
   "source": [
    "## Quadrados médios\n",
    "QMR = SQR / gl_residuos\n",
    "QMreg = SQreg / gl_regressao\n",
    "\n",
    "quadrados_medios = [QMreg, QMR]"
   ]
  },
  {
   "cell_type": "code",
   "execution_count": 81,
   "metadata": {},
   "outputs": [
    {
     "name": "stdout",
     "output_type": "stream",
     "text": [
      "Quadrados médos residuais:  29.1236\n",
      "Quadrados médios da regresão:  3252.8048\n"
     ]
    }
   ],
   "source": [
    "print(\"Quadrados médos residuais: \", round(QMR,4))\n",
    "print(\"Quadrados médios da regresão: \", round(QMreg,4))"
   ]
  },
  {
   "cell_type": "code",
   "execution_count": 82,
   "metadata": {},
   "outputs": [
    {
     "name": "stdout",
     "output_type": "stream",
     "text": [
      "Estatística F:  111.6897\n"
     ]
    }
   ],
   "source": [
    "## F-statistic\n",
    "F_statistic = QMreg / QMR\n",
    "print(\"Estatística F: \", round(F_statistic,4))"
   ]
  },
  {
   "cell_type": "code",
   "execution_count": 83,
   "metadata": {},
   "outputs": [
    {
     "data": {
      "text/plain": [
       "(193, 6)"
      ]
     },
     "execution_count": 83,
     "metadata": {},
     "output_type": "execute_result"
    }
   ],
   "source": [
    "gl_residuos, gl_regressao"
   ]
  },
  {
   "cell_type": "code",
   "execution_count": 84,
   "metadata": {},
   "outputs": [
    {
     "data": {
      "text/html": [
       "<div>\n",
       "<style scoped>\n",
       "    .dataframe tbody tr th:only-of-type {\n",
       "        vertical-align: middle;\n",
       "    }\n",
       "\n",
       "    .dataframe tbody tr th {\n",
       "        vertical-align: top;\n",
       "    }\n",
       "\n",
       "    .dataframe thead th {\n",
       "        text-align: right;\n",
       "    }\n",
       "</style>\n",
       "<table border=\"1\" class=\"dataframe\">\n",
       "  <thead>\n",
       "    <tr style=\"text-align: right;\">\n",
       "      <th></th>\n",
       "      <th>Graus de Liberdade</th>\n",
       "      <th>Soma de quadrados</th>\n",
       "      <th>Quadrados médios</th>\n",
       "      <th>F statistic</th>\n",
       "    </tr>\n",
       "  </thead>\n",
       "  <tbody>\n",
       "    <tr>\n",
       "      <th>Regressão</th>\n",
       "      <td>NaN</td>\n",
       "      <td>NaN</td>\n",
       "      <td>NaN</td>\n",
       "      <td>NaN</td>\n",
       "    </tr>\n",
       "    <tr>\n",
       "      <th>Resíduos</th>\n",
       "      <td>NaN</td>\n",
       "      <td>NaN</td>\n",
       "      <td>NaN</td>\n",
       "      <td>NaN</td>\n",
       "    </tr>\n",
       "    <tr>\n",
       "      <th>Total</th>\n",
       "      <td>NaN</td>\n",
       "      <td>NaN</td>\n",
       "      <td>NaN</td>\n",
       "      <td>NaN</td>\n",
       "    </tr>\n",
       "  </tbody>\n",
       "</table>\n",
       "</div>"
      ],
      "text/plain": [
       "          Graus de Liberdade Soma de quadrados Quadrados médios F statistic\n",
       "Regressão                NaN               NaN              NaN         NaN\n",
       "Resíduos                 NaN               NaN              NaN         NaN\n",
       "Total                    NaN               NaN              NaN         NaN"
      ]
     },
     "execution_count": 84,
     "metadata": {},
     "output_type": "execute_result"
    }
   ],
   "source": [
    "analise_variancia"
   ]
  },
  {
   "cell_type": "code",
   "execution_count": 85,
   "metadata": {},
   "outputs": [
    {
     "data": {
      "text/plain": [
       "Index(['Graus de Liberdade', 'Soma de quadrados', 'Quadrados médios',\n",
       "       'F statistic'],\n",
       "      dtype='object')"
      ]
     },
     "execution_count": 85,
     "metadata": {},
     "output_type": "execute_result"
    }
   ],
   "source": [
    "analise_variancia.columns"
   ]
  },
  {
   "cell_type": "code",
   "execution_count": 86,
   "metadata": {},
   "outputs": [],
   "source": [
    "analise_variancia['Graus de Liberdade'] = graus_de_liberdade\n",
    "analise_variancia['Soma de quadrados'] = Soma_quadrados"
   ]
  },
  {
   "cell_type": "code",
   "execution_count": 87,
   "metadata": {},
   "outputs": [],
   "source": [
    "analise_variancia.iloc[:2,2] = quadrados_medios\n",
    "analise_variancia.iloc[0,3] = F_statistic"
   ]
  },
  {
   "cell_type": "code",
   "execution_count": 88,
   "metadata": {},
   "outputs": [],
   "source": [
    "analise_variancia.fillna('-', inplace = True) ## colocando '-' nos espaços em branco"
   ]
  },
  {
   "cell_type": "code",
   "execution_count": 89,
   "metadata": {},
   "outputs": [
    {
     "data": {
      "text/html": [
       "<div>\n",
       "<style scoped>\n",
       "    .dataframe tbody tr th:only-of-type {\n",
       "        vertical-align: middle;\n",
       "    }\n",
       "\n",
       "    .dataframe tbody tr th {\n",
       "        vertical-align: top;\n",
       "    }\n",
       "\n",
       "    .dataframe thead th {\n",
       "        text-align: right;\n",
       "    }\n",
       "</style>\n",
       "<table border=\"1\" class=\"dataframe\">\n",
       "  <thead>\n",
       "    <tr style=\"text-align: right;\">\n",
       "      <th></th>\n",
       "      <th>Graus de Liberdade</th>\n",
       "      <th>Soma de quadrados</th>\n",
       "      <th>Quadrados médios</th>\n",
       "      <th>F statistic</th>\n",
       "    </tr>\n",
       "  </thead>\n",
       "  <tbody>\n",
       "    <tr>\n",
       "      <th>Regressão</th>\n",
       "      <td>6</td>\n",
       "      <td>19516.8286</td>\n",
       "      <td>3252.8</td>\n",
       "      <td>111.69</td>\n",
       "    </tr>\n",
       "    <tr>\n",
       "      <th>Resíduos</th>\n",
       "      <td>193</td>\n",
       "      <td>5620.8514</td>\n",
       "      <td>29.1236</td>\n",
       "      <td>-</td>\n",
       "    </tr>\n",
       "    <tr>\n",
       "      <th>Total</th>\n",
       "      <td>199</td>\n",
       "      <td>25137.6800</td>\n",
       "      <td>-</td>\n",
       "      <td>-</td>\n",
       "    </tr>\n",
       "  </tbody>\n",
       "</table>\n",
       "</div>"
      ],
      "text/plain": [
       "           Graus de Liberdade  Soma de quadrados Quadrados médios F statistic\n",
       "Regressão                   6         19516.8286           3252.8      111.69\n",
       "Resíduos                  193          5620.8514          29.1236           -\n",
       "Total                     199         25137.6800                -           -"
      ]
     },
     "execution_count": 89,
     "metadata": {},
     "output_type": "execute_result"
    }
   ],
   "source": [
    "analise_variancia"
   ]
  },
  {
   "cell_type": "markdown",
   "metadata": {},
   "source": [
    "Teste de hipótese para o modelo de Regressão"
   ]
  },
  {
   "cell_type": "markdown",
   "metadata": {},
   "source": [
    "$H_{0}$: $\\beta_{0}$ = $\\beta_{1}$ = $\\beta_{2}$ = $\\dots$ = $\\beta_{k}$\n",
    "\n",
    "$H_{1}$: $\\beta_{i}$ $\\neq$ 0  $\\quad$: $i$ = 0, 1, 2, $\\dots$ k"
   ]
  },
  {
   "cell_type": "code",
   "execution_count": 90,
   "metadata": {},
   "outputs": [
    {
     "data": {
      "text/plain": [
       "Regressão    111.69\n",
       "Resíduos          -\n",
       "Total             -\n",
       "Name: F statistic, dtype: object"
      ]
     },
     "execution_count": 90,
     "metadata": {},
     "output_type": "execute_result"
    }
   ],
   "source": [
    "## Valor da estatística de teste\n",
    "analise_variancia['F statistic']"
   ]
  },
  {
   "cell_type": "code",
   "execution_count": 91,
   "metadata": {},
   "outputs": [
    {
     "data": {
      "text/plain": [
       "(6, 193)"
      ]
     },
     "execution_count": 91,
     "metadata": {},
     "output_type": "execute_result"
    }
   ],
   "source": [
    "## Graus de liberdade\n",
    "gl_regressao, gl_residuos,"
   ]
  },
  {
   "attachments": {
    "image.png": {
     "image/png": "[encoded data removed]"
    }
   },
   "cell_type": "markdown",
   "metadata": {},
   "source": [
    "![image.png](attachment:image.png)"
   ]
  },
  {
   "cell_type": "markdown",
   "metadata": {},
   "source": [
    "Como o valor da estatística F(111.68) é bem maior que o quantil da distribuição F-Snedecor(2.146), rejeitamos a hipótese nula. Portanto, existem evidências estatísticas de que os coeficientes não valem zero."
   ]
  },
  {
   "cell_type": "markdown",
   "metadata": {},
   "source": [
    "## n) \n",
    "Qual a estimativa para a variância dos erros aleatórios?"
   ]
  },
  {
   "cell_type": "markdown",
   "metadata": {},
   "source": [
    "#### Estimador da variância dos erros ou variância da regressão"
   ]
  },
  {
   "attachments": {
    "image-2.png": {
     "image/png": "[encoded data removed]"
    }
   },
   "cell_type": "markdown",
   "metadata": {},
   "source": [
    "![image-2.png](attachment:image-2.png)"
   ]
  },
  {
   "cell_type": "markdown",
   "metadata": {},
   "source": [
    "$$\n",
    "\\sum \\limits^{200}_{\\mathit{i} = 1} \\hat{e_{i}}^{2} = SQR\n",
    "$$\n",
    "\n",
    "$$\n",
    "\\hat{\\sigma^{2}} = \\dfrac{SQR}{n-p}\n",
    "$$"
   ]
  },
  {
   "cell_type": "code",
   "execution_count": 92,
   "metadata": {},
   "outputs": [
    {
     "name": "stdout",
     "output_type": "stream",
     "text": [
      "Estimador da variância dos erros/ variância da regressão:  29.1236\n"
     ]
    }
   ],
   "source": [
    "sigma_estimado = SQR/(n - p)\n",
    "print(\"Estimador da variância dos erros/ variância da regressão: \", round(sigma_estimado,4))"
   ]
  },
  {
   "cell_type": "markdown",
   "metadata": {},
   "source": [
    "## o) \n",
    "Obtenha o coeficiente de determinação e o coeficiente de determinação ajustado. Interprete-os;"
   ]
  },
  {
   "attachments": {
    "image.png": {
     "image/png": "[encoded data removed]"
    }
   },
   "cell_type": "markdown",
   "metadata": {},
   "source": [
    "### R quadrado\n",
    "![image.png](attachment:image.png)"
   ]
  },
  {
   "cell_type": "code",
   "execution_count": 93,
   "metadata": {},
   "outputs": [
    {
     "data": {
      "text/plain": [
       "(19516.828599984445, 25137.68)"
      ]
     },
     "execution_count": 93,
     "metadata": {},
     "output_type": "execute_result"
    }
   ],
   "source": [
    "SQreg, SQT"
   ]
  },
  {
   "cell_type": "code",
   "execution_count": 94,
   "metadata": {},
   "outputs": [
    {
     "name": "stdout",
     "output_type": "stream",
     "text": [
      "O coeficiente de R²:  0.7764\n"
     ]
    }
   ],
   "source": [
    "R_quadrado = SQreg / SQT\n",
    "print(\"O coeficiente de R²: \", round(R_quadrado,4))"
   ]
  },
  {
   "cell_type": "markdown",
   "metadata": {},
   "source": [
    "O modelo ajustado consegue explicar 77,64% da variação no escore."
   ]
  },
  {
   "attachments": {
    "image.png": {
     "image/png": "[encoded data removed]"
    }
   },
   "cell_type": "markdown",
   "metadata": {},
   "source": [
    "### R quadrado ajustado\n",
    "![image.png](attachment:image.png)"
   ]
  },
  {
   "cell_type": "code",
   "execution_count": 95,
   "metadata": {},
   "outputs": [
    {
     "name": "stdout",
     "output_type": "stream",
     "text": [
      "O coeficiente de R quadrado ajustado é:  0.7694\n"
     ]
    }
   ],
   "source": [
    "numerador = SQR / (n - p)\n",
    "denominador = SQT / (n - 1)\n",
    "R_quadrado_ajustado = 1 - (numerador/denominador)\n",
    "print(\"O coeficiente de R quadrado ajustado é: \", round(R_quadrado_ajustado, 4))"
   ]
  },
  {
   "cell_type": "markdown",
   "metadata": {},
   "source": [
    "Desconsiderando o as grandezas das variáveis, o modelo ajustado consegue explicar 76,94% da variação que ocorre no escore."
   ]
  },
  {
   "cell_type": "markdown",
   "metadata": {},
   "source": [
    "## p) \n",
    "Ajuste um novo modelo de regressão, desta vez desconsiderando a variável massa gorda. Compare os resultados dos dois ajustes. O que houve com o efeito da variável imc? Justifique."
   ]
  },
  {
   "cell_type": "code",
   "execution_count": 96,
   "metadata": {},
   "outputs": [
    {
     "data": {
      "text/html": [
       "<div>\n",
       "<style scoped>\n",
       "    .dataframe tbody tr th:only-of-type {\n",
       "        vertical-align: middle;\n",
       "    }\n",
       "\n",
       "    .dataframe tbody tr th {\n",
       "        vertical-align: top;\n",
       "    }\n",
       "\n",
       "    .dataframe thead th {\n",
       "        text-align: right;\n",
       "    }\n",
       "</style>\n",
       "<table border=\"1\" class=\"dataframe\">\n",
       "  <thead>\n",
       "    <tr style=\"text-align: right;\">\n",
       "      <th></th>\n",
       "      <th>escore</th>\n",
       "      <th>idade</th>\n",
       "      <th>imc</th>\n",
       "      <th>horas</th>\n",
       "      <th>massa</th>\n",
       "      <th>gasto</th>\n",
       "      <th>estudo</th>\n",
       "    </tr>\n",
       "  </thead>\n",
       "  <tbody>\n",
       "    <tr>\n",
       "      <th>1</th>\n",
       "      <td>79.6</td>\n",
       "      <td>30</td>\n",
       "      <td>20.5</td>\n",
       "      <td>19</td>\n",
       "      <td>21.66</td>\n",
       "      <td>72</td>\n",
       "      <td>15</td>\n",
       "    </tr>\n",
       "    <tr>\n",
       "      <th>2</th>\n",
       "      <td>80.7</td>\n",
       "      <td>30</td>\n",
       "      <td>21.0</td>\n",
       "      <td>23</td>\n",
       "      <td>20.50</td>\n",
       "      <td>130</td>\n",
       "      <td>15</td>\n",
       "    </tr>\n",
       "    <tr>\n",
       "      <th>3</th>\n",
       "      <td>65.6</td>\n",
       "      <td>23</td>\n",
       "      <td>21.3</td>\n",
       "      <td>13</td>\n",
       "      <td>19.39</td>\n",
       "      <td>68</td>\n",
       "      <td>10</td>\n",
       "    </tr>\n",
       "    <tr>\n",
       "      <th>4</th>\n",
       "      <td>75.0</td>\n",
       "      <td>23</td>\n",
       "      <td>22.7</td>\n",
       "      <td>16</td>\n",
       "      <td>23.41</td>\n",
       "      <td>64</td>\n",
       "      <td>11</td>\n",
       "    </tr>\n",
       "    <tr>\n",
       "      <th>5</th>\n",
       "      <td>84.6</td>\n",
       "      <td>27</td>\n",
       "      <td>22.6</td>\n",
       "      <td>20</td>\n",
       "      <td>20.72</td>\n",
       "      <td>101</td>\n",
       "      <td>12</td>\n",
       "    </tr>\n",
       "  </tbody>\n",
       "</table>\n",
       "</div>"
      ],
      "text/plain": [
       "   escore  idade   imc  horas  massa  gasto  estudo\n",
       "1    79.6     30  20.5     19  21.66     72      15\n",
       "2    80.7     30  21.0     23  20.50    130      15\n",
       "3    65.6     23  21.3     13  19.39     68      10\n",
       "4    75.0     23  22.7     16  23.41     64      11\n",
       "5    84.6     27  22.6     20  20.72    101      12"
      ]
     },
     "execution_count": 96,
     "metadata": {},
     "output_type": "execute_result"
    }
   ],
   "source": [
    "df.head()"
   ]
  },
  {
   "cell_type": "code",
   "execution_count": 97,
   "metadata": {},
   "outputs": [],
   "source": [
    "X2 = df.drop(columns= {'escore', 'massa'}) ## excluindo as variáveis escore e massa\n",
    "y2 = df.iloc[:,0] ## a variável massa"
   ]
  },
  {
   "cell_type": "code",
   "execution_count": 98,
   "metadata": {},
   "outputs": [
    {
     "data": {
      "text/html": [
       "<div>\n",
       "<style scoped>\n",
       "    .dataframe tbody tr th:only-of-type {\n",
       "        vertical-align: middle;\n",
       "    }\n",
       "\n",
       "    .dataframe tbody tr th {\n",
       "        vertical-align: top;\n",
       "    }\n",
       "\n",
       "    .dataframe thead th {\n",
       "        text-align: right;\n",
       "    }\n",
       "</style>\n",
       "<table border=\"1\" class=\"dataframe\">\n",
       "  <thead>\n",
       "    <tr style=\"text-align: right;\">\n",
       "      <th></th>\n",
       "      <th>idade</th>\n",
       "      <th>imc</th>\n",
       "      <th>horas</th>\n",
       "      <th>gasto</th>\n",
       "      <th>estudo</th>\n",
       "    </tr>\n",
       "  </thead>\n",
       "  <tbody>\n",
       "    <tr>\n",
       "      <th>1</th>\n",
       "      <td>30</td>\n",
       "      <td>20.5</td>\n",
       "      <td>19</td>\n",
       "      <td>72</td>\n",
       "      <td>15</td>\n",
       "    </tr>\n",
       "    <tr>\n",
       "      <th>2</th>\n",
       "      <td>30</td>\n",
       "      <td>21.0</td>\n",
       "      <td>23</td>\n",
       "      <td>130</td>\n",
       "      <td>15</td>\n",
       "    </tr>\n",
       "    <tr>\n",
       "      <th>3</th>\n",
       "      <td>23</td>\n",
       "      <td>21.3</td>\n",
       "      <td>13</td>\n",
       "      <td>68</td>\n",
       "      <td>10</td>\n",
       "    </tr>\n",
       "    <tr>\n",
       "      <th>4</th>\n",
       "      <td>23</td>\n",
       "      <td>22.7</td>\n",
       "      <td>16</td>\n",
       "      <td>64</td>\n",
       "      <td>11</td>\n",
       "    </tr>\n",
       "    <tr>\n",
       "      <th>5</th>\n",
       "      <td>27</td>\n",
       "      <td>22.6</td>\n",
       "      <td>20</td>\n",
       "      <td>101</td>\n",
       "      <td>12</td>\n",
       "    </tr>\n",
       "  </tbody>\n",
       "</table>\n",
       "</div>"
      ],
      "text/plain": [
       "   idade   imc  horas  gasto  estudo\n",
       "1     30  20.5     19     72      15\n",
       "2     30  21.0     23    130      15\n",
       "3     23  21.3     13     68      10\n",
       "4     23  22.7     16     64      11\n",
       "5     27  22.6     20    101      12"
      ]
     },
     "execution_count": 98,
     "metadata": {},
     "output_type": "execute_result"
    }
   ],
   "source": [
    "X2.head() ## Apenas 4 variáveis agora"
   ]
  },
  {
   "cell_type": "code",
   "execution_count": 99,
   "metadata": {},
   "outputs": [
    {
     "data": {
      "text/plain": [
       "1    79.6\n",
       "2    80.7\n",
       "3    65.6\n",
       "4    75.0\n",
       "5    84.6\n",
       "Name: escore, dtype: float64"
      ]
     },
     "execution_count": 99,
     "metadata": {},
     "output_type": "execute_result"
    }
   ],
   "source": [
    "y2.head()"
   ]
  },
  {
   "cell_type": "code",
   "execution_count": 100,
   "metadata": {},
   "outputs": [
    {
     "data": {
      "text/plain": [
       "array([[  1. ,  30. ,  20.5,  19. ,  72. ,  15. ],\n",
       "       [  1. ,  30. ,  21. ,  23. , 130. ,  15. ],\n",
       "       [  1. ,  23. ,  21.3,  13. ,  68. ,  10. ],\n",
       "       ...,\n",
       "       [  1. ,  27. ,  23. ,  20. ,  99. ,  15. ],\n",
       "       [  1. ,  18. ,  21.1,  11. ,  59. ,   9. ],\n",
       "       [  1. ,  24. ,  21.2,  15. ,  59. ,  10. ]])"
      ]
     },
     "execution_count": 100,
     "metadata": {},
     "output_type": "execute_result"
    }
   ],
   "source": [
    "ones = np.repeat(1, len(X))\n",
    "X2_matrix = np.hstack([ones.reshape(-1,1), X2.values])\n",
    "X2_matrix"
   ]
  },
  {
   "cell_type": "code",
   "execution_count": 101,
   "metadata": {},
   "outputs": [
    {
     "data": {
      "text/plain": [
       "(200, 1)"
      ]
     },
     "execution_count": 101,
     "metadata": {},
     "output_type": "execute_result"
    }
   ],
   "source": [
    "y2_vector = y2.values.reshape(-1,1)\n",
    "y2_vector.shape"
   ]
  },
  {
   "cell_type": "code",
   "execution_count": 102,
   "metadata": {},
   "outputs": [
    {
     "data": {
      "text/plain": [
       "array([[63.87993674],\n",
       "       [-0.55230167],\n",
       "       [-0.66189787],\n",
       "       [ 1.17416758],\n",
       "       [ 0.18436413],\n",
       "       [ 0.23415144]])"
      ]
     },
     "execution_count": 102,
     "metadata": {},
     "output_type": "execute_result"
    }
   ],
   "source": [
    "parte1_2 = np.linalg.inv(np.matmul(X2_matrix.T,X2_matrix))\n",
    "parte2_2 = np.matmul(X2_matrix.T, y2_vector)\n",
    "betas2 = np.matmul(parte1_2, parte2_2)\n",
    "lista_betas2 = betas2.reshape(1,-1).tolist()[0]\n",
    "betas2"
   ]
  },
  {
   "cell_type": "code",
   "execution_count": 103,
   "metadata": {},
   "outputs": [
    {
     "name": "stdout",
     "output_type": "stream",
     "text": [
      "Valores dos betas sem a variável massa: \n",
      " [83.39355814 -0.55917772 -0.22909211  1.60564943 -1.34870955  0.09559331\n",
      "  0.15886723]\n",
      "\n",
      " Valores dos betas com a variável massa: \n",
      " [63.87993673868664, -0.5523016722303282, -0.6618978668286104, 1.1741675821802744, 0.1843641270961598, 0.2341514359784469]\n"
     ]
    }
   ],
   "source": [
    "print(\"Valores dos betas sem a variável massa: \\n {}\".format(lista_betas))\n",
    "print(\"\\n Valores dos betas com a variável massa: \\n {}\".format(lista_betas2))"
   ]
  },
  {
   "cell_type": "markdown",
   "metadata": {},
   "source": [
    "#### Efeito da variável imc"
   ]
  },
  {
   "cell_type": "code",
   "execution_count": 104,
   "metadata": {},
   "outputs": [
    {
     "name": "stdout",
     "output_type": "stream",
     "text": [
      "Efeito da variável imc com a variável massa gorda: -0.2291\n",
      "Efeito da variável imc sem a variável massa gorda: -0.5523\n"
     ]
    }
   ],
   "source": [
    "print(\"Efeito da variável imc com a variável massa gorda: {:.4f}\".format(lista_betas[2]))\n",
    "print(\"Efeito da variável imc sem a variável massa gorda: {:.4f}\".format(lista_betas2[1]))"
   ]
  },
  {
   "cell_type": "markdown",
   "metadata": {},
   "source": [
    "Quando eliminamos a variável de massa gorda do conjunto de variáveis explicativas, o imc dimuinui mais o   escore( respeitando o critério _ceteris paribus_)"
   ]
  },
  {
   "cell_type": "markdown",
   "metadata": {},
   "source": [
    "## q)\n",
    "Voltando ao modelo original, teste a significância conjunta das variáveis imc e estudo. De acordo com o resultado do teste, poderíamos excluir ambas as variáveis do modelo ao nível de 5% de significância?"
   ]
  },
  {
   "cell_type": "code",
   "execution_count": 105,
   "metadata": {},
   "outputs": [
    {
     "name": "stdout",
     "output_type": "stream",
     "text": [
      "beta[0] é estatisticamente significante\n",
      "beta[1] é estatisticamente significante\n",
      "beta[2] não é estatisticamente significante\n",
      "beta[3] é estatisticamente significante\n",
      "beta[4] é estatisticamente significante\n",
      "beta[5] é estatisticamente significante\n",
      "beta[6] não é estatisticamente significante\n"
     ]
    }
   ],
   "source": [
    "## módulo do quantil com (200-7) graus de liberdade e 95% de confiança: 1.973\n",
    "quantil = 1.973\n",
    "\n",
    "for i, estatistica in enumerate(np.abs(est_t_test)):\n",
    "    if estatistica > quantil:\n",
    "        print(\"beta{} é estatisticamente significante\".format([i]))\n",
    "    else:\n",
    "        print(\"beta{} não é estatisticamente significante\".format([i]))"
   ]
  },
  {
   "cell_type": "markdown",
   "metadata": {},
   "source": [
    "#### $\\beta_{2}$ == imc\n",
    "#### $\\beta_{4}$ == massa\n",
    "Ao relizar o teste t para cada um dos coeficientes estimados, temos que beta 2( imc) não se mostra estatisticamente significante, enquanto que a variável massa se mostra estatisticamente significante. Desse modo, seria adequado excluir apenas imc do modelo e, logo após, retreiná-lo para observar seu comportamento.\n"
   ]
  },
  {
   "cell_type": "markdown",
   "metadata": {},
   "source": [
    "## r)\n",
    "Considere os seguintes perfis de atletas:"
   ]
  },
  {
   "attachments": {
    "image.png": {
     "image/png": "[encoded data removed]"
    }
   },
   "cell_type": "markdown",
   "metadata": {},
   "source": [
    "![image.png](attachment:image.png)"
   ]
  },
  {
   "cell_type": "markdown",
   "metadata": {},
   "source": [
    "Para cada um dos perfis apresente um intervalo de confiança (95%) para o escore médio de desempenho e um intervalo de predição (95%) para o escore de um novo atleta com as características apresentadas;"
   ]
  },
  {
   "cell_type": "code",
   "execution_count": 106,
   "metadata": {},
   "outputs": [
    {
     "data": {
      "text/plain": [
       "array([[83.39355814],\n",
       "       [-0.55917772],\n",
       "       [-0.22909211],\n",
       "       [ 1.60564943],\n",
       "       [-1.34870955],\n",
       "       [ 0.09559331],\n",
       "       [ 0.15886723]])"
      ]
     },
     "execution_count": 106,
     "metadata": {},
     "output_type": "execute_result"
    }
   ],
   "source": [
    "betas"
   ]
  },
  {
   "cell_type": "code",
   "execution_count": 107,
   "metadata": {},
   "outputs": [],
   "source": [
    "perfis = {'idade': [10,28,25],\n",
    "         'imc': [20,23,21],\n",
    "         'horas': [20,13,15],\n",
    "         'massa': [17,22,20],\n",
    "         'gasto': [100,60,85]}"
   ]
  },
  {
   "cell_type": "code",
   "execution_count": 108,
   "metadata": {},
   "outputs": [],
   "source": [
    "perfis_matrix = pd.DataFrame(perfis).values\n",
    "perfis_matrix = np.hstack([np.repeat(1, len(perfis_matrix)).reshape(-1,1), perfis_matrix])"
   ]
  },
  {
   "cell_type": "code",
   "execution_count": 109,
   "metadata": {},
   "outputs": [
    {
     "data": {
      "text/plain": [
       "((3, 6), (6, 1))"
      ]
     },
     "execution_count": 109,
     "metadata": {},
     "output_type": "execute_result"
    }
   ],
   "source": [
    "perfis_matrix.shape, betas[:-1].shape ## tiramos a últimav pois não coletamos estudo "
   ]
  },
  {
   "cell_type": "code",
   "execution_count": 110,
   "metadata": {},
   "outputs": [
    {
     "data": {
      "text/plain": [
       "array([[  1,  10,  20,  20,  17, 100],\n",
       "       [  1,  28,  23,  13,  22,  60],\n",
       "       [  1,  25,  21,  15,  20,  85]], dtype=int64)"
      ]
     },
     "execution_count": 110,
     "metadata": {},
     "output_type": "execute_result"
    }
   ],
   "source": [
    "perfis_matrix"
   ]
  },
  {
   "cell_type": "code",
   "execution_count": 111,
   "metadata": {},
   "outputs": [
    {
     "data": {
      "text/plain": [
       "array([[91.96419629],\n",
       "       [59.40489469],\n",
       "       [69.83916287]])"
      ]
     },
     "execution_count": 111,
     "metadata": {},
     "output_type": "execute_result"
    }
   ],
   "source": [
    "np.matmul(perfis_matrix, betas[:-1]) ## A previsões para os perfis 1, 2 e 3"
   ]
  },
  {
   "attachments": {
    "image.png": {
     "image/png": "[encoded data removed]"
    }
   },
   "cell_type": "markdown",
   "metadata": {},
   "source": [
    "![image.png](attachment:image.png)"
   ]
  },
  {
   "cell_type": "code",
   "execution_count": 112,
   "metadata": {},
   "outputs": [
    {
     "data": {
      "text/plain": [
       "29.123582383500278"
      ]
     },
     "execution_count": 112,
     "metadata": {},
     "output_type": "execute_result"
    }
   ],
   "source": [
    "QMR ## sigma quadrado estimado"
   ]
  },
  {
   "cell_type": "code",
   "execution_count": 113,
   "metadata": {},
   "outputs": [
    {
     "data": {
      "text/plain": [
       "array([[  1.  ,  30.  ,  20.5 , ...,  21.66,  72.  ,  15.  ],\n",
       "       [  1.  ,  30.  ,  21.  , ...,  20.5 , 130.  ,  15.  ],\n",
       "       [  1.  ,  23.  ,  21.3 , ...,  19.39,  68.  ,  10.  ],\n",
       "       ...,\n",
       "       [  1.  ,  27.  ,  23.  , ...,  21.69,  99.  ,  15.  ],\n",
       "       [  1.  ,  18.  ,  21.1 , ...,  19.52,  59.  ,   9.  ],\n",
       "       [  1.  ,  24.  ,  21.2 , ...,  21.07,  59.  ,  10.  ]])"
      ]
     },
     "execution_count": 113,
     "metadata": {},
     "output_type": "execute_result"
    }
   ],
   "source": [
    "X_perfis = X_matrix.copy()\n",
    "X_perfis"
   ]
  },
  {
   "cell_type": "code",
   "execution_count": 114,
   "metadata": {},
   "outputs": [
    {
     "data": {
      "text/plain": [
       "Index(['idade', 'imc', 'horas', 'massa', 'gasto'], dtype='object')"
      ]
     },
     "execution_count": 114,
     "metadata": {},
     "output_type": "execute_result"
    }
   ],
   "source": [
    "df.columns[1:-1] ## todas as variáveis menos estudo"
   ]
  },
  {
   "cell_type": "code",
   "execution_count": 115,
   "metadata": {},
   "outputs": [
    {
     "data": {
      "text/plain": [
       "array([[  1.  ,  30.  ,  20.5 ,  19.  ,  21.66,  72.  ],\n",
       "       [  1.  ,  30.  ,  21.  ,  23.  ,  20.5 , 130.  ],\n",
       "       [  1.  ,  23.  ,  21.3 ,  13.  ,  19.39,  68.  ],\n",
       "       ...,\n",
       "       [  1.  ,  27.  ,  23.  ,  20.  ,  21.69,  99.  ],\n",
       "       [  1.  ,  18.  ,  21.1 ,  11.  ,  19.52,  59.  ],\n",
       "       [  1.  ,  24.  ,  21.2 ,  15.  ,  21.07,  59.  ]])"
      ]
     },
     "execution_count": 115,
     "metadata": {},
     "output_type": "execute_result"
    }
   ],
   "source": [
    "X_perfis = X_perfis[:,:-1]\n",
    "X_perfis"
   ]
  },
  {
   "cell_type": "code",
   "execution_count": 116,
   "metadata": {},
   "outputs": [
    {
     "data": {
      "text/plain": [
       "array([[  1,  10,  20,  20,  17, 100],\n",
       "       [  1,  28,  23,  13,  22,  60],\n",
       "       [  1,  25,  21,  15,  20,  85]], dtype=int64)"
      ]
     },
     "execution_count": 116,
     "metadata": {},
     "output_type": "execute_result"
    }
   ],
   "source": [
    "perfis_matrix"
   ]
  },
  {
   "cell_type": "markdown",
   "metadata": {},
   "source": [
    "### Predizendo os perfis"
   ]
  },
  {
   "cell_type": "code",
   "execution_count": 117,
   "metadata": {},
   "outputs": [
    {
     "data": {
      "text/plain": [
       "array([[91.96419629],\n",
       "       [59.40489469],\n",
       "       [69.83916287]])"
      ]
     },
     "execution_count": 117,
     "metadata": {},
     "output_type": "execute_result"
    }
   ],
   "source": [
    "predicoes_perfis = np.matmul(perfis_matrix,betas[:-1])\n",
    "predicoes_perfis"
   ]
  },
  {
   "cell_type": "markdown",
   "metadata": {},
   "source": [
    "### Caculando a variância das predições dos perfis"
   ]
  },
  {
   "cell_type": "code",
   "execution_count": 118,
   "metadata": {},
   "outputs": [
    {
     "data": {
      "text/plain": [
       "(6, 6)"
      ]
     },
     "execution_count": 118,
     "metadata": {},
     "output_type": "execute_result"
    }
   ],
   "source": [
    "matrix_inversa_perfis = np.linalg.inv(np.matmul(X_perfis.T, X_perfis))\n",
    "matrix_inversa_perfis.shape"
   ]
  },
  {
   "cell_type": "code",
   "execution_count": 119,
   "metadata": {},
   "outputs": [
    {
     "data": {
      "text/plain": [
       "((3, 6), (6, 6))"
      ]
     },
     "execution_count": 119,
     "metadata": {},
     "output_type": "execute_result"
    }
   ],
   "source": [
    "perfis_matrix.shape, matrix_inversa_perfis.shape"
   ]
  },
  {
   "cell_type": "code",
   "execution_count": 120,
   "metadata": {},
   "outputs": [],
   "source": [
    "perfil1 = perfis_matrix[0].reshape(-1,1)\n",
    "perfil2 = perfis_matrix[1].reshape(-1,1)\n",
    "perfil3 = perfis_matrix[2].reshape(-1,1)"
   ]
  },
  {
   "cell_type": "code",
   "execution_count": 121,
   "metadata": {},
   "outputs": [],
   "source": [
    "var_perfil1 = np.matmul(np.matmul(QMR*perfil1.T, matrix_inversa_perfis), perfil1)\n",
    "var_perfil2 = np.matmul(np.matmul(QMR*perfil2.T, matrix_inversa_perfis), perfil2)\n",
    "var_perfil3 = np.matmul(np.matmul(QMR*perfil3.T, matrix_inversa_perfis), perfil3)"
   ]
  },
  {
   "cell_type": "code",
   "execution_count": 122,
   "metadata": {},
   "outputs": [],
   "source": [
    "variancias_perfis = [float(var_perfil1), float(var_perfil2), float(var_perfil3)]"
   ]
  },
  {
   "cell_type": "code",
   "execution_count": 123,
   "metadata": {},
   "outputs": [
    {
     "name": "stdout",
     "output_type": "stream",
     "text": [
      "Variância do perfil1 : 5.4699\n",
      "Variância do perfil2 : 0.7785\n",
      "Variância do perfil3 : 0.4452\n"
     ]
    }
   ],
   "source": [
    "for i in range(3):\n",
    "    print(\"Variância do perfil{} : {:.4f}\".format(i + 1, variancias_perfis[i]))"
   ]
  },
  {
   "attachments": {
    "image.png": {
     "image/png": "[encoded data removed]"
    }
   },
   "cell_type": "markdown",
   "metadata": {},
   "source": [
    "### Quantil da distribuição _t-student_ com 95% de confiança e 194 graus de liberdade\n",
    "### tc = 1.973\n",
    "\n",
    "![image.png](attachment:image.png)"
   ]
  },
  {
   "cell_type": "code",
   "execution_count": 124,
   "metadata": {},
   "outputs": [],
   "source": [
    "tc = 1.973"
   ]
  },
  {
   "cell_type": "code",
   "execution_count": 125,
   "metadata": {},
   "outputs": [
    {
     "name": "stdout",
     "output_type": "stream",
     "text": [
      "A predição para o perfil 1 é de: 91.9642 \n",
      " O intervalo de confiança de 95% fica como[87.3498, 96.5786]\n"
     ]
    }
   ],
   "source": [
    "## Intervalo de predição para o perfil 1 a 95% de confiança\n",
    "li1 = float(predicoes_perfis[0]) - (tc*np.sqrt(variancias_perfis[0]))\n",
    "ls1 = float(predicoes_perfis[0]) + (tc*np.sqrt(variancias_perfis[0]))\n",
    "print(\"A predição para o perfil 1 é de: {:.4f} \\n O intervalo de confiança de 95% fica como[{:.4f}, {:.4f}]\".format(float(predicoes_perfis[0]), li1, ls1))"
   ]
  },
  {
   "cell_type": "code",
   "execution_count": 126,
   "metadata": {},
   "outputs": [
    {
     "name": "stdout",
     "output_type": "stream",
     "text": [
      "A predição para o perfil 2 é de: 59.4049 \n",
      " O intervalo de confiança de 95% fica como[57.6641, 61.1457]\n"
     ]
    }
   ],
   "source": [
    "## Intervalo de predição para o perfil 2 a 95% de confiança\n",
    "li2 = float(predicoes_perfis[1]) - (tc*np.sqrt(variancias_perfis[1]))\n",
    "ls2 = float(predicoes_perfis[1]) + (tc*np.sqrt(variancias_perfis[1]))\n",
    "print(\"A predição para o perfil 2 é de: {:.4f} \\n O intervalo de confiança de 95% fica como[{:.4f}, {:.4f}]\".format(float(predicoes_perfis[1]), li2, ls2))"
   ]
  },
  {
   "cell_type": "code",
   "execution_count": 127,
   "metadata": {},
   "outputs": [
    {
     "name": "stdout",
     "output_type": "stream",
     "text": [
      "A predição para o perfil 3 é de: 69.8392 \n",
      " O intervalo de confiança de 95% fica como[68.5228, 71.1556]\n"
     ]
    }
   ],
   "source": [
    "## Intervalo de predição para o perfil 3 a 95% de confiança\n",
    "li3 = float(predicoes_perfis[2]) - (tc*np.sqrt(variancias_perfis[2]))\n",
    "ls3 = float(predicoes_perfis[2]) + (tc*np.sqrt(variancias_perfis[2]))\n",
    "print(\"A predição para o perfil 3 é de: {:.4f} \\n O intervalo de confiança de 95% fica como[{:.4f}, {:.4f}]\".format(float(predicoes_perfis[2]), li3, ls3))"
   ]
  },
  {
   "cell_type": "markdown",
   "metadata": {},
   "source": [
    "## s)\n",
    "Faça um gráfico de escores observados versus escores ajustados pelo modelo. Acrescente ao gráfico a reta identidade;"
   ]
  },
  {
   "cell_type": "code",
   "execution_count": 128,
   "metadata": {},
   "outputs": [],
   "source": [
    "sns.set_style('darkgrid')"
   ]
  },
  {
   "cell_type": "code",
   "execution_count": 129,
   "metadata": {},
   "outputs": [],
   "source": [
    "predicoes_lista = predicoes.reshape(1,-1).tolist()[0]\n",
    "residuos_lista = residuos.tolist()[0]"
   ]
  },
  {
   "cell_type": "code",
   "execution_count": 130,
   "metadata": {},
   "outputs": [],
   "source": [
    "line = np.linspace(start = 40, stop = 100, num = 200)"
   ]
  },
  {
   "cell_type": "markdown",
   "metadata": {},
   "source": [
    "Plotando os valores idealizados vs os valores preditos pelo modelo:"
   ]
  },
  {
   "cell_type": "code",
   "execution_count": 131,
   "metadata": {},
   "outputs": [
    {
     "data": {
      "image/png": "[encoded data removed]",
      "text/plain": [
       "<Figure size 720x432 with 1 Axes>"
      ]
     },
     "metadata": {},
     "output_type": "display_data"
    }
   ],
   "source": [
    "plt.figure(figsize = (10,6))\n",
    "\n",
    "sns.lineplot(line, line, color = 'red', label = 'Reta identidade')\n",
    "sns.scatterplot(predicoes_lista,y, color = 'blue')\n",
    "\n",
    "plt.xlabel(\"Predições do modelo (y estimado)\",fontweight = 'bold', fontsize = 14)\n",
    "plt.ylabel(\"Valores idealizados (y real)\", fontweight = 'bold', fontsize = 14)\n",
    "plt.xlim(40,100)\n",
    "\n",
    "plt.legend(fontsize = 17)\n",
    "plt.show()"
   ]
  },
  {
   "cell_type": "markdown",
   "metadata": {},
   "source": [
    "## t)\n",
    "Faça um gráfico de resíduos versus escores ajustados. Como os resíduos estão distribuídos?"
   ]
  },
  {
   "cell_type": "code",
   "execution_count": 132,
   "metadata": {},
   "outputs": [
    {
     "data": {
      "image/png": "[encoded data removed]",
      "text/plain": [
       "<Figure size 720x432 with 1 Axes>"
      ]
     },
     "metadata": {},
     "output_type": "display_data"
    }
   ],
   "source": [
    "plt.figure(figsize = (10,6))\n",
    "sns.scatterplot(predicoes_lista,residuos_lista, color = 'purple')\n",
    "plt.xlabel(\"Valores ajustados pelo modelo\", fontweight = 'bold', fontsize = 14)\n",
    "plt.ylabel(\"Resíduos\", fontweight = 'bold', fontsize = 14)\n",
    "\n",
    "\n",
    "plt.show()"
   ]
  },
  {
   "cell_type": "markdown",
   "metadata": {},
   "source": [
    "Os resíduos se comportam de maneira dispersa, isto é, percebe-se a formação de uma nuvem dispersa de pontos. Esta característica pode ser um indicativo de homocedasticidade."
   ]
  },
  {
   "cell_type": "markdown",
   "metadata": {},
   "source": [
    "## u)\n",
    "Padronize cada uma das variáveis explicativas e ajuste um novo modelo de regressão, substituindo as variáveis originais pelas padronizadas. Qual das variáveis apresenta maior efeito no escore de desempenho? Qual a interpretação das estimativas obtidas?"
   ]
  },
  {
   "attachments": {
    "image.png": {
     "image/png": "[encoded data removed]"
    }
   },
   "cell_type": "markdown",
   "metadata": {},
   "source": [
    "![image.png](attachment:image.png)"
   ]
  },
  {
   "cell_type": "markdown",
   "metadata": {},
   "source": [
    "Média amostral de cada variável coloteda:"
   ]
  },
  {
   "cell_type": "code",
   "execution_count": 133,
   "metadata": {},
   "outputs": [
    {
     "data": {
      "text/plain": [
       "array([24.42   , 21.6895 , 17.77   , 20.83765, 84.     , 11.155  ])"
      ]
     },
     "execution_count": 133,
     "metadata": {},
     "output_type": "execute_result"
    }
   ],
   "source": [
    "medias_amostrais = X.mean(axis = 0)\n",
    "medias_amostrais"
   ]
  },
  {
   "cell_type": "markdown",
   "metadata": {},
   "source": [
    "Desvio padrão de cada variável coletada:"
   ]
  },
  {
   "cell_type": "code",
   "execution_count": 134,
   "metadata": {},
   "outputs": [
    {
     "data": {
      "text/plain": [
       "array([ 2.8746478 ,  1.2294876 ,  4.38259056,  1.49759807, 25.48215062,\n",
       "        2.1239056 ])"
      ]
     },
     "execution_count": 134,
     "metadata": {},
     "output_type": "execute_result"
    }
   ],
   "source": [
    "desvios_padroes_amostrais = X.std(axis = 0)\n",
    "desvios_padroes_amostrais "
   ]
  },
  {
   "cell_type": "code",
   "execution_count": 135,
   "metadata": {},
   "outputs": [
    {
     "data": {
      "text/plain": [
       "6"
      ]
     },
     "execution_count": 135,
     "metadata": {},
     "output_type": "execute_result"
    }
   ],
   "source": [
    "X.shape[1]"
   ]
  },
  {
   "cell_type": "code",
   "execution_count": 136,
   "metadata": {},
   "outputs": [
    {
     "data": {
      "text/plain": [
       "array([1., 1., 1., 1., 1., 1., 1., 1., 1., 1., 1., 1., 1., 1., 1., 1., 1.,\n",
       "       1., 1., 1., 1., 1., 1., 1., 1., 1., 1., 1., 1., 1., 1., 1., 1., 1.,\n",
       "       1., 1., 1., 1., 1., 1., 1., 1., 1., 1., 1., 1., 1., 1., 1., 1., 1.,\n",
       "       1., 1., 1., 1., 1., 1., 1., 1., 1., 1., 1., 1., 1., 1., 1., 1., 1.,\n",
       "       1., 1., 1., 1., 1., 1., 1., 1., 1., 1., 1., 1., 1., 1., 1., 1., 1.,\n",
       "       1., 1., 1., 1., 1., 1., 1., 1., 1., 1., 1., 1., 1., 1., 1., 1., 1.,\n",
       "       1., 1., 1., 1., 1., 1., 1., 1., 1., 1., 1., 1., 1., 1., 1., 1., 1.,\n",
       "       1., 1., 1., 1., 1., 1., 1., 1., 1., 1., 1., 1., 1., 1., 1., 1., 1.,\n",
       "       1., 1., 1., 1., 1., 1., 1., 1., 1., 1., 1., 1., 1., 1., 1., 1., 1.,\n",
       "       1., 1., 1., 1., 1., 1., 1., 1., 1., 1., 1., 1., 1., 1., 1., 1., 1.,\n",
       "       1., 1., 1., 1., 1., 1., 1., 1., 1., 1., 1., 1., 1., 1., 1., 1., 1.,\n",
       "       1., 1., 1., 1., 1., 1., 1., 1., 1., 1., 1., 1., 1.])"
      ]
     },
     "execution_count": 136,
     "metadata": {},
     "output_type": "execute_result"
    }
   ],
   "source": [
    "## Criando uma matrix para salvar os valores\n",
    "X_escalonado = np.ones(shape = (200,6))\n",
    "X_escalonado[:,0]"
   ]
  },
  {
   "cell_type": "code",
   "execution_count": 137,
   "metadata": {},
   "outputs": [],
   "source": [
    "(X[:,0] - medias_amostrais[0]) / desvios_padroes_amostrais[0]\n",
    "\n",
    "for i in range(X.shape[1]):\n",
    "    X_escalonado[:,i] = (X[:,i] - medias_amostrais[i]) / desvios_padroes_amostrais[i]\n"
   ]
  },
  {
   "cell_type": "code",
   "execution_count": 138,
   "metadata": {},
   "outputs": [
    {
     "data": {
      "text/plain": [
       "array([[ 1.94110736, -0.96747621,  0.28065592,  0.54911262, -0.47091787,\n",
       "         1.81034411],\n",
       "       [ 1.94110736, -0.56080273,  1.19335811, -0.22546103,  1.80518515,\n",
       "         1.81034411],\n",
       "       [-0.49397356, -0.31679864, -1.08839736, -0.96664788, -0.62789049,\n",
       "        -0.54380948],\n",
       "       ...,\n",
       "       [ 0.89750125,  1.06589119,  0.50883147,  0.5691447 ,  0.58864733,\n",
       "         1.81034411],\n",
       "       [-2.23331707, -0.47946803, -1.54474846, -0.87984221, -0.98107889,\n",
       "        -1.0146402 ],\n",
       "       [-0.14610485, -0.39813334, -0.63204627,  0.15514844, -0.98107889,\n",
       "        -0.54380948]])"
      ]
     },
     "execution_count": 138,
     "metadata": {},
     "output_type": "execute_result"
    }
   ],
   "source": [
    "X_escalonado"
   ]
  },
  {
   "cell_type": "code",
   "execution_count": 139,
   "metadata": {},
   "outputs": [
    {
     "data": {
      "text/plain": [
       "(200, 6)"
      ]
     },
     "execution_count": 139,
     "metadata": {},
     "output_type": "execute_result"
    }
   ],
   "source": [
    "X_escalonado.shape ## 200 observações por 6 colunas, todos os valores estão escalonados"
   ]
  },
  {
   "cell_type": "code",
   "execution_count": 140,
   "metadata": {},
   "outputs": [
    {
     "data": {
      "text/html": [
       "<div>\n",
       "<style scoped>\n",
       "    .dataframe tbody tr th:only-of-type {\n",
       "        vertical-align: middle;\n",
       "    }\n",
       "\n",
       "    .dataframe tbody tr th {\n",
       "        vertical-align: top;\n",
       "    }\n",
       "\n",
       "    .dataframe thead th {\n",
       "        text-align: right;\n",
       "    }\n",
       "</style>\n",
       "<table border=\"1\" class=\"dataframe\">\n",
       "  <thead>\n",
       "    <tr style=\"text-align: right;\">\n",
       "      <th></th>\n",
       "      <th>0</th>\n",
       "      <th>1</th>\n",
       "      <th>2</th>\n",
       "      <th>3</th>\n",
       "      <th>4</th>\n",
       "      <th>5</th>\n",
       "      <th>6</th>\n",
       "    </tr>\n",
       "  </thead>\n",
       "  <tbody>\n",
       "    <tr>\n",
       "      <th>0</th>\n",
       "      <td>1.0</td>\n",
       "      <td>1.941107</td>\n",
       "      <td>-0.967476</td>\n",
       "      <td>0.280656</td>\n",
       "      <td>0.549113</td>\n",
       "      <td>-0.470918</td>\n",
       "      <td>1.810344</td>\n",
       "    </tr>\n",
       "    <tr>\n",
       "      <th>1</th>\n",
       "      <td>1.0</td>\n",
       "      <td>1.941107</td>\n",
       "      <td>-0.560803</td>\n",
       "      <td>1.193358</td>\n",
       "      <td>-0.225461</td>\n",
       "      <td>1.805185</td>\n",
       "      <td>1.810344</td>\n",
       "    </tr>\n",
       "    <tr>\n",
       "      <th>2</th>\n",
       "      <td>1.0</td>\n",
       "      <td>-0.493974</td>\n",
       "      <td>-0.316799</td>\n",
       "      <td>-1.088397</td>\n",
       "      <td>-0.966648</td>\n",
       "      <td>-0.627890</td>\n",
       "      <td>-0.543809</td>\n",
       "    </tr>\n",
       "    <tr>\n",
       "      <th>3</th>\n",
       "      <td>1.0</td>\n",
       "      <td>-0.493974</td>\n",
       "      <td>0.821887</td>\n",
       "      <td>-0.403871</td>\n",
       "      <td>1.717650</td>\n",
       "      <td>-0.784863</td>\n",
       "      <td>-0.072979</td>\n",
       "    </tr>\n",
       "    <tr>\n",
       "      <th>4</th>\n",
       "      <td>1.0</td>\n",
       "      <td>0.897501</td>\n",
       "      <td>0.740552</td>\n",
       "      <td>0.508831</td>\n",
       "      <td>-0.078559</td>\n",
       "      <td>0.667134</td>\n",
       "      <td>0.397852</td>\n",
       "    </tr>\n",
       "    <tr>\n",
       "      <th>...</th>\n",
       "      <td>...</td>\n",
       "      <td>...</td>\n",
       "      <td>...</td>\n",
       "      <td>...</td>\n",
       "      <td>...</td>\n",
       "      <td>...</td>\n",
       "      <td>...</td>\n",
       "    </tr>\n",
       "    <tr>\n",
       "      <th>195</th>\n",
       "      <td>1.0</td>\n",
       "      <td>-0.493974</td>\n",
       "      <td>-0.154129</td>\n",
       "      <td>-1.544748</td>\n",
       "      <td>-0.439137</td>\n",
       "      <td>-1.569726</td>\n",
       "      <td>-0.072979</td>\n",
       "    </tr>\n",
       "    <tr>\n",
       "      <th>196</th>\n",
       "      <td>1.0</td>\n",
       "      <td>-1.189711</td>\n",
       "      <td>-2.187497</td>\n",
       "      <td>1.193358</td>\n",
       "      <td>-1.814672</td>\n",
       "      <td>1.177295</td>\n",
       "      <td>-0.072979</td>\n",
       "    </tr>\n",
       "    <tr>\n",
       "      <th>197</th>\n",
       "      <td>1.0</td>\n",
       "      <td>0.897501</td>\n",
       "      <td>1.065891</td>\n",
       "      <td>0.508831</td>\n",
       "      <td>0.569145</td>\n",
       "      <td>0.588647</td>\n",
       "      <td>1.810344</td>\n",
       "    </tr>\n",
       "    <tr>\n",
       "      <th>198</th>\n",
       "      <td>1.0</td>\n",
       "      <td>-2.233317</td>\n",
       "      <td>-0.479468</td>\n",
       "      <td>-1.544748</td>\n",
       "      <td>-0.879842</td>\n",
       "      <td>-0.981079</td>\n",
       "      <td>-1.014640</td>\n",
       "    </tr>\n",
       "    <tr>\n",
       "      <th>199</th>\n",
       "      <td>1.0</td>\n",
       "      <td>-0.146105</td>\n",
       "      <td>-0.398133</td>\n",
       "      <td>-0.632046</td>\n",
       "      <td>0.155148</td>\n",
       "      <td>-0.981079</td>\n",
       "      <td>-0.543809</td>\n",
       "    </tr>\n",
       "  </tbody>\n",
       "</table>\n",
       "<p>200 rows × 7 columns</p>\n",
       "</div>"
      ],
      "text/plain": [
       "       0         1         2         3         4         5         6\n",
       "0    1.0  1.941107 -0.967476  0.280656  0.549113 -0.470918  1.810344\n",
       "1    1.0  1.941107 -0.560803  1.193358 -0.225461  1.805185  1.810344\n",
       "2    1.0 -0.493974 -0.316799 -1.088397 -0.966648 -0.627890 -0.543809\n",
       "3    1.0 -0.493974  0.821887 -0.403871  1.717650 -0.784863 -0.072979\n",
       "4    1.0  0.897501  0.740552  0.508831 -0.078559  0.667134  0.397852\n",
       "..   ...       ...       ...       ...       ...       ...       ...\n",
       "195  1.0 -0.493974 -0.154129 -1.544748 -0.439137 -1.569726 -0.072979\n",
       "196  1.0 -1.189711 -2.187497  1.193358 -1.814672  1.177295 -0.072979\n",
       "197  1.0  0.897501  1.065891  0.508831  0.569145  0.588647  1.810344\n",
       "198  1.0 -2.233317 -0.479468 -1.544748 -0.879842 -0.981079 -1.014640\n",
       "199  1.0 -0.146105 -0.398133 -0.632046  0.155148 -0.981079 -0.543809\n",
       "\n",
       "[200 rows x 7 columns]"
      ]
     },
     "execution_count": 140,
     "metadata": {},
     "output_type": "execute_result"
    }
   ],
   "source": [
    "X_escalonado_matrix = np.hstack([ones.reshape(-1,1), X_escalonado])\n",
    "pd.DataFrame(X_escalonado_matrix)"
   ]
  },
  {
   "cell_type": "markdown",
   "metadata": {},
   "source": [
    "Escalonando a variável predita (escore):"
   ]
  },
  {
   "cell_type": "code",
   "execution_count": 141,
   "metadata": {},
   "outputs": [
    {
     "name": "stdout",
     "output_type": "stream",
     "text": [
      "média y :  75.0 / desvio padrão y:  11.211083801310203\n"
     ]
    }
   ],
   "source": [
    "print(\"média y : \", y_vetor.mean(),\"/ desvio padrão y: \", y_vetor.std()) ## média e desvio padrão de escore\n",
    "y_media = y_vetor.mean()\n",
    "y_dp =  y_vetor.std()"
   ]
  },
  {
   "cell_type": "code",
   "execution_count": 142,
   "metadata": {},
   "outputs": [
    {
     "data": {
      "text/plain": [
       "(200, 1)"
      ]
     },
     "execution_count": 142,
     "metadata": {},
     "output_type": "execute_result"
    }
   ],
   "source": [
    "y_escalonado = (y_vetor - y_media) / y_dp\n",
    "y_escalonado.shape"
   ]
  },
  {
   "cell_type": "code",
   "execution_count": 143,
   "metadata": {},
   "outputs": [],
   "source": [
    "betas_padronizados = np.linalg.inv(np.matmul(X_escalonado_matrix.T, X_escalonado_matrix))\n",
    "betas_padronizados = np.matmul(betas_padronizados,np.matmul(X_escalonado_matrix.T, y_escalonado))"
   ]
  },
  {
   "cell_type": "code",
   "execution_count": 144,
   "metadata": {},
   "outputs": [
    {
     "data": {
      "text/plain": [
       "array([[-1.39940799e-16],\n",
       "       [-1.43379448e-01],\n",
       "       [-2.51238788e-02],\n",
       "       [ 6.27673842e-01],\n",
       "       [-1.80163208e-01],\n",
       "       [ 2.17278119e-01],\n",
       "       [ 3.00969126e-02]])"
      ]
     },
     "execution_count": 144,
     "metadata": {},
     "output_type": "execute_result"
    }
   ],
   "source": [
    "betas_padronizados ## betas calculados com padronização"
   ]
  },
  {
   "cell_type": "code",
   "execution_count": 145,
   "metadata": {},
   "outputs": [
    {
     "data": {
      "text/plain": [
       "array([[83.39355814],\n",
       "       [-0.55917772],\n",
       "       [-0.22909211],\n",
       "       [ 1.60564943],\n",
       "       [-1.34870955],\n",
       "       [ 0.09559331],\n",
       "       [ 0.15886723]])"
      ]
     },
     "execution_count": 145,
     "metadata": {},
     "output_type": "execute_result"
    }
   ],
   "source": [
    "betas ## betas normais"
   ]
  },
  {
   "cell_type": "markdown",
   "metadata": {},
   "source": [
    "- Ao analisar a diferença entre os betas normais e os betas padronizados, percebe-se a diferença no valor do intercepto, o qual não é mais afetado na segunda versão pela magnitude das variáveis.\n",
    "\n",
    "- Quando padroniza-se tanto as variavéis explicativas quando a predita, nota-se que o valor de $\\beta_{4}$ (massa) é o que mais afeta o modelo, o qual aumenta cerca de 6.28 pontos no escore a cada incrmento de uma unidade, considerando o critério _ceteris paribus_."
   ]
  },
  {
   "cell_type": "markdown",
   "metadata": {},
   "source": [
    "Predizendo os valores para os valores escolonados. Agora, vamos ter o valor de y predito e escalonado."
   ]
  },
  {
   "cell_type": "code",
   "execution_count": 146,
   "metadata": {},
   "outputs": [
    {
     "data": {
      "text/plain": [
       "((200, 7), (7, 1))"
      ]
     },
     "execution_count": 146,
     "metadata": {},
     "output_type": "execute_result"
    }
   ],
   "source": [
    "X_escalonado_matrix.shape, betas_padronizados.shape"
   ]
  },
  {
   "cell_type": "code",
   "execution_count": 147,
   "metadata": {},
   "outputs": [
    {
     "data": {
      "text/plain": [
       "(200, 1)"
      ]
     },
     "execution_count": 147,
     "metadata": {},
     "output_type": "execute_result"
    }
   ],
   "source": [
    "y_escalonado_pred = np.matmul(X_escalonado_matrix, betas_padronizados)\n",
    "y_escalonado_pred.shape"
   ]
  },
  {
   "cell_type": "markdown",
   "metadata": {},
   "source": [
    "Vamos avaliar o desempenho dos dois modelos utilizando as métricas: Erro Quadrático Médio(EQM), Erro Absoluto Médio(EAM) e R²."
   ]
  },
  {
   "cell_type": "code",
   "execution_count": 148,
   "metadata": {},
   "outputs": [
    {
     "name": "stdout",
     "output_type": "stream",
     "text": [
      "EQM para as predições sem escalonamento: 28.1043\n",
      "EQM para as predições com escalonamento: 0.2236\n"
     ]
    }
   ],
   "source": [
    "print(\"EQM para as predições sem escalonamento: {:.4f}\".format(mean_squared_error(y_vetor, predicoes)))\n",
    "print(\"EQM para as predições com escalonamento: {:.4f}\".format(mean_squared_error(y_escalonado, y_escalonado_pred)))"
   ]
  },
  {
   "cell_type": "code",
   "execution_count": 149,
   "metadata": {},
   "outputs": [
    {
     "name": "stdout",
     "output_type": "stream",
     "text": [
      "EAM para as predições sem escalonamento: 4.2162\n",
      "EAM para as predições com escalonamento: 0.3761\n"
     ]
    }
   ],
   "source": [
    "print(\"EAM para as predições sem escalonamento: {:.4f}\".format(mean_absolute_error(y_vetor, predicoes)))\n",
    "print(\"EAM para as predições com escalonamento: {:.4f}\".format(mean_absolute_error(y_escalonado, y_escalonado_pred)))"
   ]
  },
  {
   "cell_type": "code",
   "execution_count": 150,
   "metadata": {},
   "outputs": [
    {
     "name": "stdout",
     "output_type": "stream",
     "text": [
      "R² ajustado para os valores sem escalonamento: 0.7764\n",
      "R² ajustado para os valores com escalonamento: 0.7764\n"
     ]
    }
   ],
   "source": [
    "print(\"R² ajustado para os valores sem escalonamento: {:.4f}\".format(r2_score(y_vetor, predicoes)))\n",
    "print(\"R² ajustado para os valores com escalonamento: {:.4f}\".format(r2_score(y_escalonado, y_escalonado_pred)))"
   ]
  },
  {
   "cell_type": "markdown",
   "metadata": {},
   "source": [
    "Devido a grandeza das variáveis, nota-se que as métricas do Erro Quadrático Médio(EQM) e Erro Absoluto Médio(EAM) sofrem uma grande influência quando são calculados, os quais se adequam aos valores utilizados na predição. Por outro lado, o valor do R² ajustado apresenta-se inalterado mesmo com o escalonamento aplicado, tal fato evidencia que esta medida é universal em termos das escalas de medidas, de fato,  quando aplica-se a padronização tanto no conjunto de variáveis explicativas, quanto na variável dependente."
   ]
  }
 ],
 "metadata": {
  "kernelspec": {
   "display_name": "Python 3",
   "language": "python",
   "name": "python3"
  },
  "language_info": {
   "codemirror_mode": {
    "name": "ipython",
    "version": 3
   },
   "file_extension": ".py",
   "mimetype": "text/x-python",
   "name": "python",
   "nbconvert_exporter": "python",
   "pygments_lexer": "ipython3",
   "version": "3.9.0"
  }
 },
 "nbformat": 4,
 "nbformat_minor": 4
}
